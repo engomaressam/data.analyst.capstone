{
 "cells": [
  {
   "cell_type": "markdown",
   "id": "4db14ecf-98ea-4802-b33b-a3949e4771f4",
   "metadata": {},
   "source": [
    "<p style=\"text-align:center\">\n",
    "    <a href=\"https://skills.network\" target=\"_blank\">\n",
    "    <img src=\"https://cf-courses-data.s3.us.cloud-object-storage.appdomain.cloud/assets/logos/SN_web_lightmode.png\" width=\"200\" alt=\"Skills Network Logo\"  />\n",
    "    </a>\n",
    "</p>\n"
   ]
  },
  {
   "cell_type": "markdown",
   "id": "9f86f5ee-bcbf-45f4-a5b1-c3bdf2cac827",
   "metadata": {},
   "source": [
    "# **Data Visualization**\n"
   ]
  },
  {
   "cell_type": "markdown",
   "id": "26f0e07f-b72b-4d11-b0d2-cd689ed3cdd4",
   "metadata": {},
   "source": [
    "Estimated time needed: **45** minutes\n"
   ]
  },
  {
   "cell_type": "markdown",
   "id": "261f9a05-2a2e-47a0-a509-6b2855f54a19",
   "metadata": {},
   "source": [
    "In this lab, you will focus on data visualization. The dataset will be provided through an RDBMS, and you will need to use SQL queries to extract the required data.\n"
   ]
  },
  {
   "cell_type": "markdown",
   "id": "6107230c-4b1c-499e-a90b-6d609cb479a5",
   "metadata": {},
   "source": [
    "## Objectives\n"
   ]
  },
  {
   "cell_type": "markdown",
   "id": "392ca22a-f58c-4325-8e07-f8b8017b9a26",
   "metadata": {},
   "source": [
    "After completing this lab, you will be able to:\n"
   ]
  },
  {
   "cell_type": "markdown",
   "id": "df4f493a-da4d-44e4-982d-840656f7ffb2",
   "metadata": {},
   "source": [
    "-   Visualize the distribution of data.\n",
    "\n",
    "-   Visualize the relationship between two features.\n",
    "\n",
    "-   Visualize composition and comparison of data.\n",
    "\n",
    "\n"
   ]
  },
  {
   "cell_type": "markdown",
   "id": "4d9a9a54-50ef-455c-81d0-55bdc717c1e9",
   "metadata": {},
   "source": [
    "## Demo: How to work with database\n"
   ]
  },
  {
   "cell_type": "markdown",
   "id": "f7e5069a-37b1-4c85-a685-2af958c75fb2",
   "metadata": {},
   "source": [
    "Download the database file.\n"
   ]
  },
  {
   "cell_type": "code",
   "execution_count": null,
   "id": "420529bb-b9a6-4912-9e6e-88dc4f2e5a52",
   "metadata": {},
   "outputs": [],
   "source": [
    "!wget https://cf-courses-data.s3.us.cloud-object-storage.appdomain.cloud/n01PQ9pSmiRX6520flujwQ/survey-data.csv"
   ]
  },
  {
   "cell_type": "markdown",
   "id": "2e25af3b-2bd9-4a08-b067-40987027149a",
   "metadata": {},
   "source": [
    "**Install and Import Necessary Python Libraries**\n",
    "\n",
    "Ensure that you have the required libraries installed to work with SQLite and Pandas:\n"
   ]
  },
  {
   "cell_type": "code",
   "execution_count": null,
   "id": "5239df75-32bb-4304-bbe6-74a97ac426e1",
   "metadata": {},
   "outputs": [],
   "source": [
    "!pip install pandas \n",
    "!pip install matplotlib\n",
    "\n",
    "import pandas as pd\n",
    "import matplotlib.pyplot as plt"
   ]
  },
  {
   "cell_type": "markdown",
   "id": "797b7f56-d9c6-4050-ad08-a5df99fa06ff",
   "metadata": {},
   "source": [
    "**Read the CSV File into a Pandas DataFrame**\n",
    "\n",
    "Load the Stack Overflow survey data into a Pandas DataFrame:\n"
   ]
  },
  {
   "cell_type": "code",
   "execution_count": null,
   "id": "0a1b7903-61fb-4f33-bf27-902de13bff13",
   "metadata": {},
   "outputs": [],
   "source": [
    "# Read the CSV file\n",
    "df = pd.read_csv('survey-data.csv')\n",
    "\n",
    "# Display the first few rows of the data\n",
    "df.head()\n"
   ]
  },
  {
   "cell_type": "markdown",
   "id": "c05fbf55-bed8-4335-aedf-d10e7f18a422",
   "metadata": {},
   "source": [
    "**Create a SQLite Database and Insert the Data**\n",
    "\n",
    "Now, let's create a new SQLite database (`survey-data.sqlite`) and insert the data from the DataFrame into a table using the sqlite3 library:\n"
   ]
  },
  {
   "cell_type": "code",
   "execution_count": null,
   "id": "62752c07-fc45-438a-8405-3e80a30a4c6d",
   "metadata": {},
   "outputs": [],
   "source": [
    "import sqlite3\n",
    "\n",
    "# Create a connection to the SQLite database\n",
    "conn = sqlite3.connect('survey-data.sqlite')\n",
    "\n",
    "# Write the dataframe to the SQLite database\n",
    "df.to_sql('main', conn, if_exists='replace', index=False)\n",
    "\n",
    "\n",
    "# Close the connection\n",
    "conn.close()\n"
   ]
  },
  {
   "cell_type": "markdown",
   "id": "57e9a7bb-9cab-4088-a54d-241b9be365fe",
   "metadata": {},
   "source": [
    "**Verify the Data in the SQLite Database**\n",
    "Verify that the data has been correctly inserted into the SQLite database by running a simple query:\n"
   ]
  },
  {
   "cell_type": "code",
   "execution_count": null,
   "id": "d0987131-bbb2-4c3a-a440-3de09c9a0c0b",
   "metadata": {},
   "outputs": [],
   "source": [
    "# Reconnect to the SQLite database\n",
    "conn = sqlite3.connect('survey-data.sqlite')\n",
    "\n",
    "# Run a simple query to check the data\n",
    "QUERY = \"SELECT * FROM main LIMIT 5\"\n",
    "df_check = pd.read_sql_query(QUERY, conn)\n",
    "\n",
    "# Display the results\n",
    "print(df_check)\n"
   ]
  },
  {
   "cell_type": "markdown",
   "id": "06b44359-5f99-4f0c-9d76-731cca42dc1f",
   "metadata": {},
   "source": [
    "## Demo: Running an SQL Query\n"
   ]
  },
  {
   "cell_type": "markdown",
   "id": "e3dc4c5d-6306-4a5a-869e-d04f03df2d4e",
   "metadata": {},
   "source": [
    "Count the number of rows in the table named 'main'\n"
   ]
  },
  {
   "cell_type": "code",
   "execution_count": null,
   "id": "c3532434-ed3e-45c1-b25c-204f82f1b570",
   "metadata": {},
   "outputs": [],
   "source": [
    "QUERY = \"\"\"\n",
    "SELECT COUNT(*) \n",
    "FROM main\n",
    "\"\"\"\n",
    "df = pd.read_sql_query(QUERY, conn)\n",
    "df.head()\n"
   ]
  },
  {
   "cell_type": "markdown",
   "id": "d3bafb61-87aa-4bdf-a891-8fcbaa8f911e",
   "metadata": {},
   "source": [
    "## Demo: Listing All Tables\n"
   ]
  },
  {
   "cell_type": "markdown",
   "id": "b623c0aa-ed15-4cae-b421-cdd6ea52107a",
   "metadata": {},
   "source": [
    "To view the names of all tables in the database:\n"
   ]
  },
  {
   "cell_type": "code",
   "execution_count": null,
   "id": "5759b7fb-0d41-4853-b714-10a7a41417b4",
   "metadata": {},
   "outputs": [],
   "source": [
    "QUERY = \"\"\"\n",
    "SELECT name as Table_Name FROM sqlite_master \n",
    "WHERE type = 'table'\n",
    "\"\"\"\n",
    "pd.read_sql_query(QUERY, conn)\n"
   ]
  },
  {
   "cell_type": "markdown",
   "id": "ab6cb845-a665-4f44-be29-c74635d0b512",
   "metadata": {},
   "source": [
    "## Demo: Running a Group By Query\n",
    "    \n",
    "For example, you can group data by a specific column, like Age, to get the count of respondents in each age group:\n"
   ]
  },
  {
   "cell_type": "code",
   "execution_count": null,
   "id": "9b114cea-1539-464d-bcc9-b9eddba92557",
   "metadata": {},
   "outputs": [],
   "source": [
    "QUERY = \"\"\"\n",
    "SELECT Age, COUNT(*) as count\n",
    "FROM main\n",
    "GROUP BY Age\n",
    "ORDER BY Age\n",
    "\"\"\"\n",
    "pd.read_sql_query(QUERY, conn)\n"
   ]
  },
  {
   "cell_type": "markdown",
   "id": "23d71a44-f7e3-437b-9107-3d065afd2cbf",
   "metadata": {},
   "source": [
    "## Demo: Describing a table\n",
    "\n",
    "Use this query to get the schema of a specific table, main in this case:\n"
   ]
  },
  {
   "cell_type": "code",
   "execution_count": null,
   "id": "22bfa7f2-67f8-434c-8afd-2e9d308f4c03",
   "metadata": {},
   "outputs": [],
   "source": [
    "table_name = 'main'\n",
    "\n",
    "QUERY = \"\"\"\n",
    "SELECT sql FROM sqlite_master \n",
    "WHERE name= '{}'\n",
    "\"\"\".format(table_name)\n",
    "\n",
    "df = pd.read_sql_query(QUERY, conn)\n",
    "print(df.iat[0,0])\n"
   ]
  },
  {
   "cell_type": "markdown",
   "id": "acfad27f-4925-4cfa-892f-7db94c99f149",
   "metadata": {},
   "source": [
    "## Hands-on Lab\n"
   ]
  },
  {
   "cell_type": "markdown",
   "id": "c7abbbef-ba8a-4eb6-8838-037687ae4250",
   "metadata": {},
   "source": [
    "### Visualizing the Distribution of Data\n",
    "\n",
    "**Histograms**\n",
    "\n",
    "Plot a histogram of CompTotal (Total Compensation).\n"
   ]
  },
  {
   "cell_type": "code",
   "execution_count": null,
   "id": "c7748dfb-30b8-466a-bbd3-a99de1886e98",
   "metadata": {},
   "outputs": [],
   "source": [
    "## Write your code here\n",
    "\n",
    "# Histogram of CompTotal\n",
    "\n",
    "# Query to get CompTotal data\n",
    "QUERY = \"SELECT CompTotal FROM main WHERE CompTotal IS NOT NULL\"\n",
    "df_comp = pd.read_sql_query(QUERY, conn)\n",
    "\n",
    "# Create histogram\n",
    "plt.figure(figsize=(10, 6))\n",
    "plt.hist(df_comp['CompTotal'], bins=50, edgecolor='black', alpha=0.7, color='skyblue')\n",
    "plt.title('Distribution of Total Compensation')\n",
    "plt.xlabel('Total Compensation ($)')\n",
    "plt.ylabel('Frequency')\n",
    "plt.grid(True, alpha=0.3)\n",
    "plt.tight_layout()\n",
    "plt.show()\n",
    "\n",
    "print(f\"Total respondents: {len(df_comp)}\")\n",
    "print(f\"Mean: ${df_comp['CompTotal'].mean():,.2f}\")\n",
    "print(f\"Median: ${df_comp['CompTotal'].median():,.2f}\")"
   ]
  },
  {
   "cell_type": "markdown",
   "id": "886a1255-130a-4e4b-94e7-40c820d2e398",
   "metadata": {},
   "source": [
    "**Box Plots**\n",
    "\n",
    "Plot a box plot of Age.\n"
   ]
  },
  {
   "cell_type": "code",
   "execution_count": null,
   "id": "6e557489-89b3-493c-ad0f-30546badba51",
   "metadata": {},
   "outputs": [],
   "source": [
    "## Write your code here\n",
    "\n",
    "# Box Plot of Age\n",
    "\n",
    "# Age mapping\n",
    "age_mapping = {\n",
    "    'Under 18 years old': 16,\n",
    "    '18-24 years old': 21,\n",
    "    '25-34 years old': 29.5,\n",
    "    '35-44 years old': 39.5,\n",
    "    '45-54 years old': 49.5,\n",
    "    '55-64 years old': 59.5,\n",
    "    '65 years or older': 70\n",
    "}\n",
    "\n",
    "# Query and convert\n",
    "QUERY = \"SELECT Age FROM main WHERE Age IS NOT NULL\"\n",
    "df_age = pd.read_sql_query(QUERY, conn)\n",
    "df_age['Age_numeric'] = df_age['Age'].map(age_mapping)\n",
    "\n",
    "# Create box plot\n",
    "plt.figure(figsize=(10, 6))\n",
    "plt.boxplot(df_age['Age_numeric'].dropna(), vert=True)\n",
    "plt.title('Distribution of Age (Box Plot)')\n",
    "plt.ylabel('Age (years)')\n",
    "plt.grid(True, alpha=0.3, axis='y')\n",
    "plt.tight_layout()\n",
    "plt.show()\n",
    "\n",
    "print(f\"Median age: {df_age['Age_numeric'].median():.1f} years\")"
   ]
  },
  {
   "cell_type": "markdown",
   "id": "3756dc33-dd09-4edf-9560-356734f59b26",
   "metadata": {},
   "source": [
    "### Visualizing Relationships in Data\n",
    "\n",
    "**Scatter Plots**\n",
    "\n",
    "Create a scatter plot of Age and WorkExp.\n"
   ]
  },
  {
   "cell_type": "code",
   "execution_count": null,
   "id": "d9e4f720-ee6a-4f5e-85bd-c7e6729b46c3",
   "metadata": {},
   "outputs": [],
   "source": [
    "## Write your code here\n",
    "\n",
    "# Scatter Plot of Age and WorkExp\n",
    "\n",
    "# Query data\n",
    "QUERY = \"\"\"\n",
    "SELECT Age, WorkExp \n",
    "FROM main \n",
    "WHERE Age IS NOT NULL AND WorkExp IS NOT NULL\n",
    "\"\"\"\n",
    "df_scatter = pd.read_sql_query(QUERY, conn)\n",
    "\n",
    "# Map age to numeric\n",
    "age_mapping = {\n",
    "    'Under 18 years old': 16, '18-24 years old': 21, '25-34 years old': 29.5,\n",
    "    '35-44 years old': 39.5, '45-54 years old': 49.5, '55-64 years old': 59.5,\n",
    "    '65 years or older': 70\n",
    "}\n",
    "df_scatter['Age_numeric'] = df_scatter['Age'].map(age_mapping)\n",
    "\n",
    "# Create scatter plot\n",
    "plt.figure(figsize=(10, 6))\n",
    "plt.scatter(df_scatter['Age_numeric'], df_scatter['WorkExp'], alpha=0.5, s=20, c='blue')\n",
    "plt.title('Age vs Work Experience')\n",
    "plt.xlabel('Age (years)')\n",
    "plt.ylabel('Work Experience (years)')\n",
    "plt.grid(True, alpha=0.3)\n",
    "plt.tight_layout()\n",
    "plt.show()\n",
    "\n",
    "print(\"Scatter plot created\")"
   ]
  },
  {
   "cell_type": "markdown",
   "id": "5430c862-a877-4fce-acfa-58dc04abe6e9",
   "metadata": {},
   "source": [
    "**Bubble Plots**\n",
    "\n",
    "Create a bubble plot of `TimeSearching` and `Frustration` using the Age column as the bubble size.\n"
   ]
  },
  {
   "cell_type": "code",
   "execution_count": null,
   "id": "c2feba05-24bc-4b9e-89de-43a3e5108499",
   "metadata": {},
   "outputs": [],
   "source": [
    "## Write your code here\n",
    "\n",
    "# Bubble Plot of TimeSearching and Frustration with Age as size\n",
    "\n",
    "# Query data\n",
    "QUERY = \"\"\"\n",
    "SELECT TimeSearching, Frustration, Age \n",
    "FROM main \n",
    "WHERE TimeSearching IS NOT NULL AND Frustration IS NOT NULL AND Age IS NOT NULL\n",
    "\"\"\"\n",
    "df_bubble = pd.read_sql_query(QUERY, conn)\n",
    "\n",
    "# Map age to numeric for bubble size\n",
    "age_mapping = {\n",
    "    'Under 18 years old': 16, '18-24 years old': 21, '25-34 years old': 29.5,\n",
    "    '35-44 years old': 39.5, '45-54 years old': 49.5, '55-64 years old': 59.5,\n",
    "    '65 years or older': 70\n",
    "}\n",
    "df_bubble['Age_numeric'] = df_bubble['Age'].map(age_mapping)\n",
    "\n",
    "# Create bubble plot\n",
    "plt.figure(figsize=(12, 7))\n",
    "plt.scatter(df_bubble['TimeSearching'], df_bubble['Frustration'], \n",
    "           s=df_bubble['Age_numeric']*10, alpha=0.5, c='coral', edgecolors='black')\n",
    "plt.title('Time Searching vs Frustration (Bubble size = Age)')\n",
    "plt.xlabel('Time Searching')\n",
    "plt.ylabel('Frustration Level')\n",
    "plt.grid(True, alpha=0.3)\n",
    "plt.tight_layout()\n",
    "plt.show()\n",
    "\n",
    "print(\"Bubble plot created\")"
   ]
  },
  {
   "cell_type": "markdown",
   "id": "4579fd7d-7347-49ea-8bf8-dc819a6a4d78",
   "metadata": {},
   "source": [
    "### Visualizing Composition of Data\n",
    "\n",
    "**Pie Charts**\n",
    "\n",
    "Create a pie chart of the top 5 databases(`DatabaseWantToWorkWith`) that respondents wish to learn next year.\n"
   ]
  },
  {
   "cell_type": "code",
   "execution_count": null,
   "id": "b75776ed-c301-41fd-a7a4-f877c98ace9c",
   "metadata": {},
   "outputs": [],
   "source": [
    "## Write your code here\n",
    "\n",
    "# Pie Chart of top 5 DatabaseWantToWorkWith\n",
    "\n",
    "# Query top 5 databases\n",
    "QUERY = \"\"\"\n",
    "SELECT DatabaseWantToWorkWith, COUNT(*) as count\n",
    "FROM main\n",
    "WHERE DatabaseWantToWorkWith IS NOT NULL\n",
    "GROUP BY DatabaseWantToWorkWith\n",
    "ORDER BY count DESC\n",
    "LIMIT 5\n",
    "\"\"\"\n",
    "df_db = pd.read_sql_query(QUERY, conn)\n",
    "\n",
    "# Create pie chart\n",
    "plt.figure(figsize=(10, 8))\n",
    "plt.pie(df_db['count'], labels=df_db['DatabaseWantToWorkWith'], autopct='%1.1f%%', startangle=90)\n",
    "plt.title('Top 5 Databases Respondents Want to Learn')\n",
    "plt.axis('equal')\n",
    "plt.tight_layout()\n",
    "plt.show()\n",
    "\n",
    "print(\"Top 5 databases:\")\n",
    "print(df_db)\n",
    "\n",
    "# Close connection after pie chart\n",
    "conn.close()\n",
    "print(\"\\nDatabase connection closed after pie chart\")"
   ]
  },
  {
   "cell_type": "markdown",
   "id": "6ffead1a-9703-41f1-8197-2b694bced779",
   "metadata": {},
   "source": [
    "**Stacked Charts** \n",
    "\n",
    "Create a stacked bar chart of median `TimeSearching` and `TimeAnswering` for the age group 30 to 35.\n"
   ]
  },
  {
   "cell_type": "code",
   "execution_count": null,
   "id": "34a7fcf7-6a4b-4b00-a731-3cca66d326b6",
   "metadata": {},
   "outputs": [],
   "source": [
    "## Write your code here\n",
    "\n",
    "# Stacked bar chart of median WorkWeekHrs and CodeRevHrs for age 30-35\n",
    "\n",
    "# Reconnect\n",
    "conn = sqlite3.connect('survey-data.sqlite')\n",
    "\n",
    "# Query for age group 30-35 (using Age 25-34 and 35-44 as proxies)\n",
    "QUERY = \"\"\"\n",
    "SELECT WorkWeekHrs, CodeRevHrs\n",
    "FROM main\n",
    "WHERE (Age LIKE '%30%' OR Age LIKE '%35%' OR Age = '25-34 years old' OR Age = '35-44 years old')\n",
    "AND WorkWeekHrs IS NOT NULL AND CodeRevHrs IS NOT NULL\n",
    "\"\"\"\n",
    "df_stacked = pd.read_sql_query(QUERY, conn)\n",
    "\n",
    "# Calculate medians\n",
    "median_work = df_stacked['WorkWeekHrs'].median()\n",
    "median_code = df_stacked['CodeRevHrs'].median()\n",
    "\n",
    "# Create stacked bar chart\n",
    "labels = ['Age 30-35']\n",
    "work_hrs = [median_work]\n",
    "code_hrs = [median_code]\n",
    "\n",
    "x = range(len(labels))\n",
    "width = 0.5\n",
    "\n",
    "plt.figure(figsize=(10, 6))\n",
    "plt.bar(x, work_hrs, width, label='Median WorkWeekHrs', color='steelblue')\n",
    "plt.bar(x, code_hrs, width, bottom=work_hrs, label='Median CodeRevHrs', color='coral')\n",
    "\n",
    "plt.ylabel('Hours')\n",
    "plt.title('Median WorkWeekHrs and CodeRevHrs for Age Group 30-35')\n",
    "plt.xticks(x, labels)\n",
    "plt.legend()\n",
    "plt.tight_layout()\n",
    "plt.show()\n",
    "\n",
    "print(f\"Median WorkWeekHrs: {median_work:.2f}\")\n",
    "print(f\"Median CodeRevHrs: {median_code:.2f}\")\n",
    "\n",
    "# Close connection after stacked chart\n",
    "conn.close()\n",
    "print(\"\\nDatabase connection closed after stacked chart\")"
   ]
  },
  {
   "cell_type": "markdown",
   "id": "cfbae3f1-2057-41e5-a4f7-3b3950210f1c",
   "metadata": {},
   "source": [
    "### Visualizing Comparison of Data\n",
    "\n",
    "**Line Chart**\n",
    "\n",
    "Plot the median `CompTotal` for all ages from 45 to 60.\n"
   ]
  },
  {
   "cell_type": "code",
   "execution_count": null,
   "id": "870e3b8d-0d58-4029-aa1b-d7fc7a46d663",
   "metadata": {},
   "outputs": [],
   "source": [
    "## Write your code here\n",
    "\n",
    "# Line Chart of median CompTotal for ages 45-60\n",
    "\n",
    "# Reconnect\n",
    "conn = sqlite3.connect('survey-data.sqlite')\n",
    "\n",
    "# Query for ages 45-60\n",
    "QUERY = \"\"\"\n",
    "SELECT Age, CompTotal\n",
    "FROM main\n",
    "WHERE CompTotal IS NOT NULL\n",
    "AND (Age = '45-54 years old' OR Age = '55-64 years old')\n",
    "\"\"\"\n",
    "df_line = pd.read_sql_query(QUERY, conn)\n",
    "\n",
    "# Calculate median by age group\n",
    "median_by_age = df_line.groupby('Age')['CompTotal'].median().sort_index()\n",
    "\n",
    "# Create line chart\n",
    "plt.figure(figsize=(10, 6))\n",
    "plt.plot(median_by_age.index, median_by_age.values, marker='o', linewidth=2, markersize=8, color='green')\n",
    "plt.title('Median Compensation Trends for Ages 45-60')\n",
    "plt.xlabel('Age Group')\n",
    "plt.ylabel('Median Compensation ($)')\n",
    "plt.xticks(rotation=45, ha='right')\n",
    "plt.grid(True, alpha=0.3)\n",
    "plt.tight_layout()\n",
    "plt.show()\n",
    "\n",
    "print(\"Median compensation by age group:\")\n",
    "print(median_by_age)\n",
    "\n",
    "# Close connection after line chart\n",
    "conn.close()\n",
    "print(\"\\nDatabase connection closed after line chart\")"
   ]
  },
  {
   "cell_type": "markdown",
   "id": "1998c541-05e3-407e-b782-e4ccccaff963",
   "metadata": {},
   "source": [
    "**Bar Chart**\n",
    "\n",
    "Create a horizontal bar chart using the `MainBranch` column.\n"
   ]
  },
  {
   "cell_type": "code",
   "execution_count": null,
   "id": "fef27361-c69a-48da-8322-fcf5c7962b3d",
   "metadata": {},
   "outputs": [],
   "source": [
    "## Write your code here\n",
    "\n",
    "# Horizontal Bar Chart of MainBranch\n",
    "\n",
    "# Reconnect\n",
    "conn = sqlite3.connect('survey-data.sqlite')\n",
    "\n",
    "# Query MainBranch data\n",
    "QUERY = \"\"\"\n",
    "SELECT MainBranch, COUNT(*) as count\n",
    "FROM main\n",
    "WHERE MainBranch IS NOT NULL\n",
    "GROUP BY MainBranch\n",
    "ORDER BY count DESC\n",
    "\"\"\"\n",
    "df_bar = pd.read_sql_query(QUERY, conn)\n",
    "\n",
    "# Create horizontal bar chart\n",
    "plt.figure(figsize=(12, 6))\n",
    "plt.barh(df_bar['MainBranch'], df_bar['count'], color='teal', edgecolor='black')\n",
    "plt.title('Responses by Main Branch')\n",
    "plt.xlabel('Count')\n",
    "plt.ylabel('Main Branch')\n",
    "plt.grid(True, alpha=0.3, axis='x')\n",
    "plt.tight_layout()\n",
    "plt.show()\n",
    "\n",
    "print(\"MainBranch distribution:\")\n",
    "print(df_bar)\n",
    "\n",
    "# Close connection after bar chart\n",
    "conn.close()\n",
    "print(\"\\nDatabase connection closed after bar chart\")"
   ]
  },
  {
   "cell_type": "markdown",
   "id": "a8dc2a67-7e1a-434a-8b80-1e53e2e7adbe",
   "metadata": {},
   "source": [
    "### Summary\n"
   ]
  },
  {
   "cell_type": "markdown",
   "id": "eb5d6a0a-a053-43e7-a108-e8e0746f129f",
   "metadata": {},
   "source": [
    "In this lab, you focused on extracting and visualizing data from an RDBMS using SQL queries and SQLite. You applied various visualization techniques, including:\n",
    "\n",
    "- Histograms to display the distribution of CompTotal.\n",
    "- Box plots to show the spread of ages.\n",
    "- Scatter plots and bubble plots to explore relationships between variables like Age, WorkExp, `TimeSearching` and `TimeAnswering`.\n",
    "- Pie charts and stacked charts to visualize the composition of data.\n",
    "- Line charts and bar charts to compare data across categories.\n"
   ]
  },
  {
   "cell_type": "markdown",
   "id": "ce9498a3-74ff-4dbf-8034-5604379901bc",
   "metadata": {},
   "source": [
    "### Close the Database Connection\n",
    "\n",
    "Once the lab is complete, ensure to close the database connection:\n"
   ]
  },
  {
   "cell_type": "code",
   "execution_count": null,
   "id": "6c130e80-6d97-4aaf-b2d5-5f6ac628b00e",
   "metadata": {},
   "outputs": [],
   "source": [
    "conn.close()"
   ]
  },
  {
   "cell_type": "markdown",
   "id": "e46d0aa0-cc3e-44b0-8130-5afae6dc5367",
   "metadata": {},
   "source": [
    "## Authors:\n",
    "Ayushi Jain\n"
   ]
  },
  {
   "cell_type": "markdown",
   "id": "652919d9-bd15-40dc-8b8e-ebc3b9a07bcf",
   "metadata": {},
   "source": [
    "### Other Contributors:\n",
    "- Rav Ahuja\n",
    "- Lakshmi Holla\n",
    "- Malika\n"
   ]
  },
  {
   "cell_type": "markdown",
   "id": "3a13c1e1-81c4-4b11-a326-fe0b39bc4385",
   "metadata": {},
   "source": [
    "Copyright © IBM Corporation. All rights reserved.\n"
   ]
  }
 ],
 "metadata": {
  "kernelspec": {
   "display_name": "Python 3 (ipykernel)",
   "language": "python",
   "name": "python3"
  },
  "language_info": {
   "codemirror_mode": {
    "name": "ipython",
    "version": 3
   },
   "file_extension": ".py",
   "mimetype": "text/x-python",
   "name": "python",
   "nbconvert_exporter": "python",
   "pygments_lexer": "ipython3",
   "version": "3.11.9"
  },
  "prev_pub_hash": "fe9a23bbf02aada34ca743dbe8962f1c0a4523e59fbfc3db3fccc00328122c6e"
 },
 "nbformat": 4,
 "nbformat_minor": 4
}
