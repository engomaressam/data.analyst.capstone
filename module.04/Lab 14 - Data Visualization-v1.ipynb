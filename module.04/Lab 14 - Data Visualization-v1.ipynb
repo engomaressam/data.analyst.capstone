{
 "cells": [
  {
   "cell_type": "markdown",
   "id": "4d2ce78b-40a7-4363-9aea-c6c1f9324a7c",
   "metadata": {},
   "source": [
    "<p style=\"text-align:center\">\n",
    "    <a href=\"https://skills.network\" target=\"_blank\">\n",
    "    <img src=\"https://cf-courses-data.s3.us.cloud-object-storage.appdomain.cloud/assets/logos/SN_web_lightmode.png\" width=\"200\" alt=\"Skills Network Logo\"  />\n",
    "    </a>\n",
    "</p>\n"
   ]
  },
  {
   "cell_type": "markdown",
   "id": "c4160cb7-73b3-4e94-ba94-714f57cc8ccc",
   "metadata": {},
   "source": [
    "# **Histogram**\n"
   ]
  },
  {
   "cell_type": "markdown",
   "id": "8f840a52-f907-4a8c-8fb9-4183369f0b5b",
   "metadata": {},
   "source": [
    "Estimated time needed: **45** minutes\n"
   ]
  },
  {
   "cell_type": "markdown",
   "id": "82f3df4b-0a3c-4772-9525-2bb8b72933fd",
   "metadata": {},
   "source": [
    "In this lab, you will focus on the visualization of data. The dataset will be provided through an RDBMS, and you will need to use SQL queries to extract the required data.\n"
   ]
  },
  {
   "cell_type": "markdown",
   "id": "faabc707-b5e9-45d9-adaf-44fb661c767f",
   "metadata": {},
   "source": [
    "## Objectives\n"
   ]
  },
  {
   "cell_type": "markdown",
   "id": "ee4cd77e-d344-4c00-ad61-65dd788f161b",
   "metadata": {},
   "source": [
    "In this lab, you will perform the following:\n"
   ]
  },
  {
   "cell_type": "markdown",
   "id": "379c3966-78ce-4eab-a583-e6908bcd27a0",
   "metadata": {},
   "source": [
    "- Visualize the distribution of data using histograms.\n",
    "\n",
    "- Visualize relationships between features.\n",
    "\n",
    "- Explore data composition and comparisons.\n"
   ]
  },
  {
   "cell_type": "markdown",
   "id": "f5a325a8-13f6-484a-957b-f6db9c27949a",
   "metadata": {},
   "source": [
    "## Demo: Working with database\n"
   ]
  },
  {
   "cell_type": "markdown",
   "id": "721166fd-cce2-4256-8e98-651a099ee2fd",
   "metadata": {},
   "source": [
    "#### Download the database file.\n"
   ]
  },
  {
   "cell_type": "code",
   "execution_count": null,
   "id": "5471688f-c436-4d22-a99b-db76c8b215f0",
   "metadata": {},
   "outputs": [],
   "source": [
    "!wget -O survey-data.sqlite https://cf-courses-data.s3.us.cloud-object-storage.appdomain.cloud/QR9YeprUYhOoLafzlLspAw/survey-results-public.sqlite"
   ]
  },
  {
   "cell_type": "markdown",
   "id": "f9aa5390-80e9-46aa-88d4-60c75f3fcee1",
   "metadata": {},
   "source": [
    "#### Install the required libraries and import them\n"
   ]
  },
  {
   "cell_type": "code",
   "execution_count": null,
   "id": "67745162-3665-4d11-b232-f077f67f5f3b",
   "metadata": {},
   "outputs": [],
   "source": [
    "!pip install pandas"
   ]
  },
  {
   "cell_type": "code",
   "execution_count": null,
   "id": "e0befb7e-b957-44aa-a444-0f99605664c6",
   "metadata": {},
   "outputs": [],
   "source": [
    "!pip install matplotlib"
   ]
  },
  {
   "cell_type": "code",
   "execution_count": null,
   "id": "944c6653-b7db-4c32-a53f-15b5b5004ba5",
   "metadata": {},
   "outputs": [],
   "source": [
    "import sqlite3\n",
    "import pandas as pd\n",
    "import matplotlib.pyplot as plt"
   ]
  },
  {
   "cell_type": "markdown",
   "id": "5c4220f9-44ca-4e8f-b941-7d61150284ab",
   "metadata": {},
   "source": [
    "#### Connect to the SQLite database\n"
   ]
  },
  {
   "cell_type": "code",
   "execution_count": null,
   "id": "d7e17429-6b4d-4ada-a8ab-73ba23808189",
   "metadata": {},
   "outputs": [],
   "source": [
    "conn = sqlite3.connect('survey-data.sqlite')"
   ]
  },
  {
   "cell_type": "markdown",
   "id": "0f12beb1-c9a9-4249-b963-897677eca67c",
   "metadata": {},
   "source": [
    "## Demo: Basic SQL queries\n",
    "\n",
    "**Demo 1: Count the number of rows in the table**\n"
   ]
  },
  {
   "cell_type": "code",
   "execution_count": null,
   "id": "9df5029d-29cb-49cc-83dd-ecaae5604a3c",
   "metadata": {},
   "outputs": [],
   "source": [
    "QUERY = \"SELECT COUNT(*) FROM main\"\n",
    "df = pd.read_sql_query(QUERY, conn)\n",
    "print(df)\n"
   ]
  },
  {
   "cell_type": "markdown",
   "id": "765c445b-6c1e-41e5-803d-159ac3615859",
   "metadata": {},
   "source": [
    "**Demo 2: List all tables**\n"
   ]
  },
  {
   "cell_type": "code",
   "execution_count": null,
   "id": "30156406-fae0-4164-be77-e657e1621f38",
   "metadata": {},
   "outputs": [],
   "source": [
    "QUERY = \"\"\"\n",
    "SELECT name as Table_Name \n",
    "FROM sqlite_master \n",
    "WHERE type = 'table'\n",
    "\"\"\"\n",
    "pd.read_sql_query(QUERY, conn)\n"
   ]
  },
  {
   "cell_type": "markdown",
   "id": "fe978851-e430-46b5-9db3-c49bb448bc8a",
   "metadata": {},
   "source": [
    "**Demo 3: Group data by age**\n"
   ]
  },
  {
   "cell_type": "code",
   "execution_count": null,
   "id": "5f6b9e14-8baf-490a-8346-4c4373bfc024",
   "metadata": {},
   "outputs": [],
   "source": [
    "QUERY = \"\"\"\n",
    "SELECT Age, COUNT(*) as count \n",
    "FROM main \n",
    "GROUP BY Age \n",
    "ORDER BY Age\n",
    "\"\"\"\n",
    "df_age = pd.read_sql_query(QUERY, conn)\n",
    "print(df_age)\n"
   ]
  },
  {
   "cell_type": "markdown",
   "id": "7d3af15d-b0fb-439b-b1d6-ffbf9169e01b",
   "metadata": {},
   "source": [
    "## Hands-on Lab: Visualizing Data with Histograms\n"
   ]
  },
  {
   "cell_type": "markdown",
   "id": "7b4deb98-f9d1-4f7b-8236-b7f87c4b2f96",
   "metadata": {},
   "source": [
    "### 1. Visualizing the distribution of data (Histograms)\n"
   ]
  },
  {
   "cell_type": "markdown",
   "id": "dc66fcda-57b7-470e-a80a-b9e257aa0914",
   "metadata": {},
   "source": [
    "**1.1 Histogram of `CompTotal` (Total Compensation)**\n"
   ]
  },
  {
   "cell_type": "markdown",
   "id": "589557b4-1212-4c9b-ba51-54a6397ce05c",
   "metadata": {},
   "source": [
    "Objective: Plot a histogram of `CompTotal` to visualize the distribution of respondents' total compensation.\n"
   ]
  },
  {
   "cell_type": "code",
   "execution_count": null,
   "id": "1daa0039-8b19-4180-933f-51f78dd5dfa9",
   "metadata": {},
   "outputs": [],
   "source": [
    "## Write your code here\n",
    "\n",
    "# 1.1 Histogram of CompTotal\n",
    "\n",
    "# Query to get CompTotal data\n",
    "QUERY = \"SELECT CompTotal FROM main WHERE CompTotal IS NOT NULL\"\n",
    "df_comp = pd.read_sql_query(QUERY, conn)\n",
    "\n",
    "# Create histogram\n",
    "plt.figure(figsize=(10, 6))\n",
    "plt.hist(df_comp['CompTotal'], bins=50, edgecolor='black', alpha=0.7, color='skyblue')\n",
    "plt.title('Distribution of Total Compensation')\n",
    "plt.xlabel('Total Compensation ($)')\n",
    "plt.ylabel('Frequency')\n",
    "plt.grid(True, alpha=0.3)\n",
    "plt.tight_layout()\n",
    "plt.show()\n",
    "\n",
    "print(f\"Total respondents with compensation data: {len(df_comp)}\")\n",
    "print(f\"Mean compensation: ${df_comp['CompTotal'].mean():,.2f}\")\n",
    "print(f\"Median compensation: ${df_comp['CompTotal'].median():,.2f}\")"
   ]
  },
  {
   "cell_type": "markdown",
   "id": "242c942e-45aa-4e2a-91d1-2c6299f3665e",
   "metadata": {},
   "source": [
    "**1.2 Histogram of YearsCodePro (Years of Professional Coding Experience)**\n"
   ]
  },
  {
   "cell_type": "markdown",
   "id": "2d7a9528-8048-42ca-9f23-7c6d1c1066e4",
   "metadata": {},
   "source": [
    "Objective: Plot a histogram of `YearsCodePro` to analyze the distribution of coding experience among respondents.\n"
   ]
  },
  {
   "cell_type": "code",
   "execution_count": null,
   "id": "0930d22a-979c-463c-93b2-55cbbf8876d1",
   "metadata": {},
   "outputs": [],
   "source": [
    "## Write your code here\n",
    "\n",
    "# 1.2 Histogram of YearsCodePro\n",
    "\n",
    "# Query to get YearsCodePro data\n",
    "QUERY = \"SELECT YearsCodePro FROM main WHERE YearsCodePro IS NOT NULL\"\n",
    "df_years = pd.read_sql_query(QUERY, conn)\n",
    "\n",
    "# Create histogram\n",
    "plt.figure(figsize=(10, 6))\n",
    "plt.hist(df_years['YearsCodePro'], bins=30, edgecolor='black', alpha=0.7, color='green')\n",
    "plt.title('Distribution of Professional Coding Experience')\n",
    "plt.xlabel('Years of Professional Coding')\n",
    "plt.ylabel('Frequency')\n",
    "plt.grid(True, alpha=0.3)\n",
    "plt.tight_layout()\n",
    "plt.show()\n",
    "\n",
    "print(f\"Total respondents: {len(df_years)}\")\n",
    "print(f\"Mean experience: {df_years['YearsCodePro'].mean():.2f} years\")\n",
    "print(f\"Median experience: {df_years['YearsCodePro'].median():.2f} years\")"
   ]
  },
  {
   "cell_type": "markdown",
   "id": "f645af2e-ceb4-4e1e-aefb-572ea8a65a98",
   "metadata": {},
   "source": [
    "### 2. Visualizing Relationships in Data\n"
   ]
  },
  {
   "cell_type": "markdown",
   "id": "b2d531f9-0f18-4487-b69d-d2a9b738d725",
   "metadata": {},
   "source": [
    "**2.1 Histogram Comparison of `CompTotal` by `Age` Group**\n"
   ]
  },
  {
   "cell_type": "markdown",
   "id": "c98c39ad-7c59-4047-8b86-ef7268502cf6",
   "metadata": {},
   "source": [
    "Objective: Use histograms to compare the distribution of CompTotal across different Age groups.\n"
   ]
  },
  {
   "cell_type": "code",
   "execution_count": null,
   "id": "ae71d0c9-dc83-4223-b3d4-496cdbf01106",
   "metadata": {},
   "outputs": [],
   "source": [
    "## Write your code here\n",
    "\n",
    "# 2.1 Histogram Comparison of CompTotal by Age Group\n",
    "\n",
    "# Query to get data\n",
    "QUERY = \"\"\"\n",
    "SELECT Age, CompTotal \n",
    "FROM main \n",
    "WHERE CompTotal IS NOT NULL AND Age IS NOT NULL\n",
    "\"\"\"\n",
    "df_age_comp = pd.read_sql_query(QUERY, conn)\n",
    "\n",
    "# Get top 4 age groups\n",
    "top_ages = df_age_comp['Age'].value_counts().head(4).index\n",
    "\n",
    "# Create subplots\n",
    "fig, axes = plt.subplots(2, 2, figsize=(14, 10))\n",
    "axes = axes.flatten()\n",
    "\n",
    "for idx, age_group in enumerate(top_ages):\n",
    "    data = df_age_comp[df_age_comp['Age'] == age_group]['CompTotal']\n",
    "    axes[idx].hist(data, bins=30, edgecolor='black', alpha=0.7, color='coral')\n",
    "    axes[idx].set_title(f'CompTotal Distribution: {age_group}')\n",
    "    axes[idx].set_xlabel('Total Compensation ($)')\n",
    "    axes[idx].set_ylabel('Frequency')\n",
    "    axes[idx].grid(True, alpha=0.3)\n",
    "\n",
    "plt.tight_layout()\n",
    "plt.show()\n",
    "\n",
    "print(\"Compensation distribution by age group analyzed\")"
   ]
  },
  {
   "cell_type": "markdown",
   "id": "3bd917b0-c623-401b-b2fd-75b0c11a2e71",
   "metadata": {},
   "source": [
    "**2.2 Histogram of TimeSearching for Different Age Groups**\n"
   ]
  },
  {
   "cell_type": "markdown",
   "id": "800c7626-0694-41c9-a61e-dec6a8f90fce",
   "metadata": {},
   "source": [
    "Objective: Use histograms to explore the distribution of `TimeSearching` (time spent searching for information) for respondents across different age groups.\n"
   ]
  },
  {
   "cell_type": "code",
   "execution_count": null,
   "id": "9b8d9b8a-7a7a-4825-9e9c-0d2bbbf0ad1c",
   "metadata": {},
   "outputs": [],
   "source": [
    "## Write your code here\n",
    "\n",
    "# 2.2 Histogram of TimeSearching for Different Age Groups\n",
    "\n",
    "# Query to get data\n",
    "QUERY = \"\"\"\n",
    "SELECT Age, TimeSearching \n",
    "FROM main \n",
    "WHERE TimeSearching IS NOT NULL AND Age IS NOT NULL\n",
    "\"\"\"\n",
    "df_time_search = pd.read_sql_query(QUERY, conn)\n",
    "\n",
    "# Get top 3 age groups\n",
    "top_ages = df_time_search['Age'].value_counts().head(3).index\n",
    "\n",
    "# Create comparison histogram\n",
    "plt.figure(figsize=(12, 6))\n",
    "\n",
    "for age_group in top_ages:\n",
    "    data = df_time_search[df_time_search['Age'] == age_group]['TimeSearching']\n",
    "    plt.hist(data, bins=20, alpha=0.5, label=age_group, edgecolor='black')\n",
    "\n",
    "plt.title('Time Spent Searching by Age Group')\n",
    "plt.xlabel('Time Searching (hours)')\n",
    "plt.ylabel('Frequency')\n",
    "plt.legend()\n",
    "plt.grid(True, alpha=0.3)\n",
    "plt.tight_layout()\n",
    "plt.show()\n",
    "\n",
    "print(\"TimeSearching distribution by age group visualized\")"
   ]
  },
  {
   "cell_type": "markdown",
   "id": "495b91a1-859a-49de-b1bb-4f0396f7f9fb",
   "metadata": {},
   "source": [
    "### 3. Visualizing the Composition of Data\n"
   ]
  },
  {
   "cell_type": "markdown",
   "id": "e0438c58-7062-436e-b8ef-e7def25a0e7c",
   "metadata": {},
   "source": [
    "**3.1 Histogram of Most Desired Databases (`DatabaseWantToWorkWith`)**\n"
   ]
  },
  {
   "cell_type": "markdown",
   "id": "ab5774aa-fac6-4a41-8c2c-625100ea5f20",
   "metadata": {},
   "source": [
    "Objective: Visualize the most desired databases for future learning using a histogram of the top 5 databases.\n"
   ]
  },
  {
   "cell_type": "code",
   "execution_count": null,
   "id": "0c0ba4c4-e884-4752-932a-2729483670c5",
   "metadata": {},
   "outputs": [],
   "source": [
    "## Write your code here\n",
    "\n",
    "# 3.1 Histogram of Most Desired Databases\n",
    "\n",
    "# Query to get top 5 databases\n",
    "QUERY = \"\"\"\n",
    "SELECT DatabaseWantToWorkWith, COUNT(*) as count\n",
    "FROM main\n",
    "WHERE DatabaseWantToWorkWith IS NOT NULL\n",
    "GROUP BY DatabaseWantToWorkWith\n",
    "ORDER BY count DESC\n",
    "LIMIT 5\n",
    "\"\"\"\n",
    "df_db = pd.read_sql_query(QUERY, conn)\n",
    "\n",
    "# Create histogram\n",
    "plt.figure(figsize=(12, 6))\n",
    "plt.bar(df_db['DatabaseWantToWorkWith'], df_db['count'], edgecolor='black', alpha=0.7, color='purple')\n",
    "plt.title('Top 5 Most Desired Databases')\n",
    "plt.xlabel('Database')\n",
    "plt.ylabel('Count')\n",
    "plt.xticks(rotation=45, ha='right')\n",
    "plt.grid(True, alpha=0.3, axis='y')\n",
    "plt.tight_layout()\n",
    "plt.show()\n",
    "\n",
    "print(\"Top 5 desired databases:\")\n",
    "print(df_db)"
   ]
  },
  {
   "cell_type": "markdown",
   "id": "e1b61889-4caa-4e4e-8265-0c51a837a006",
   "metadata": {},
   "source": [
    "**3.2 Histogram of Preferred Work Locations (`RemoteWork`)**\n"
   ]
  },
  {
   "cell_type": "markdown",
   "id": "d57880c9-43e7-48ed-b6cf-7c9b6af6a491",
   "metadata": {},
   "source": [
    "Objective: Use a histogram to explore the distribution of preferred work arrangements (`remote work`).\n"
   ]
  },
  {
   "cell_type": "code",
   "execution_count": null,
   "id": "5e3085ed-7ede-40e7-8850-1ca7f5d5fe21",
   "metadata": {},
   "outputs": [],
   "source": [
    "## Write your code here\n",
    "\n",
    "# 3.2 Histogram of Preferred Work Locations (RemoteWork)\n",
    "\n",
    "# Query to get RemoteWork data\n",
    "QUERY = \"\"\"\n",
    "SELECT RemoteWork, COUNT(*) as count\n",
    "FROM main\n",
    "WHERE RemoteWork IS NOT NULL\n",
    "GROUP BY RemoteWork\n",
    "ORDER BY count DESC\n",
    "\"\"\"\n",
    "df_remote = pd.read_sql_query(QUERY, conn)\n",
    "\n",
    "# Create histogram\n",
    "plt.figure(figsize=(10, 6))\n",
    "plt.bar(df_remote['RemoteWork'], df_remote['count'], edgecolor='black', alpha=0.7, color='teal')\n",
    "plt.title('Distribution of Preferred Work Arrangements')\n",
    "plt.xlabel('Remote Work Preference')\n",
    "plt.ylabel('Count')\n",
    "plt.xticks(rotation=45, ha='right')\n",
    "plt.grid(True, alpha=0.3, axis='y')\n",
    "plt.tight_layout()\n",
    "plt.show()\n",
    "\n",
    "print(\"Remote work preferences:\")\n",
    "print(df_remote)"
   ]
  },
  {
   "cell_type": "markdown",
   "id": "be6f05d7-5f37-412b-b975-1c0355bf730d",
   "metadata": {},
   "source": [
    "### 4. Visualizing Comparison of Data\n"
   ]
  },
  {
   "cell_type": "markdown",
   "id": "1d369a96-56cd-44eb-96bb-fd805071f83c",
   "metadata": {},
   "source": [
    "**4.1 Histogram of Median CompTotal for Ages 45 to 60**\n"
   ]
  },
  {
   "cell_type": "markdown",
   "id": "506f449e-4749-4f9e-a266-fd8562070c09",
   "metadata": {},
   "source": [
    "Objective: Plot the histogram for `CompTotal` within the age group 45 to 60 to analyze compensation distribution among mid-career respondents.\n"
   ]
  },
  {
   "cell_type": "code",
   "execution_count": null,
   "id": "f045168a-db4c-4342-bdaa-18052c73c528",
   "metadata": {},
   "outputs": [],
   "source": [
    "## Write your code here\n",
    "\n",
    "# 4.1 Histogram of Median CompTotal for Ages 45 to 60\n",
    "\n",
    "# Query to get data for age range\n",
    "QUERY = \"\"\"\n",
    "SELECT CompTotal\n",
    "FROM main\n",
    "WHERE CompTotal IS NOT NULL \n",
    "AND (Age LIKE '%45%' OR Age LIKE '%50%' OR Age LIKE '%55%' OR Age LIKE '%60%')\n",
    "\"\"\"\n",
    "df_age_45_60 = pd.read_sql_query(QUERY, conn)\n",
    "\n",
    "# Create histogram\n",
    "plt.figure(figsize=(10, 6))\n",
    "plt.hist(df_age_45_60['CompTotal'], bins=40, edgecolor='black', alpha=0.7, color='orange')\n",
    "plt.title('Compensation Distribution: Ages 45-60')\n",
    "plt.xlabel('Total Compensation ($)')\n",
    "plt.ylabel('Frequency')\n",
    "plt.axvline(df_age_45_60['CompTotal'].median(), color='red', linestyle='--', linewidth=2, label='Median')\n",
    "plt.legend()\n",
    "plt.grid(True, alpha=0.3)\n",
    "plt.tight_layout()\n",
    "plt.show()\n",
    "\n",
    "print(f\"Respondents in age range 45-60: {len(df_age_45_60)}\")\n",
    "print(f\"Median compensation: ${df_age_45_60['CompTotal'].median():,.2f}\")"
   ]
  },
  {
   "cell_type": "markdown",
   "id": "c5239a2f-3d88-4790-8580-f4368cad50a4",
   "metadata": {},
   "source": [
    "**4.2 Histogram of Job Satisfaction (`JobSat`) by YearsCodePro**\n"
   ]
  },
  {
   "cell_type": "markdown",
   "id": "b9bb3eb1-1025-4a0b-a2ed-c506f7fe38be",
   "metadata": {},
   "source": [
    "Objective: Plot the histogram for `JobSat` scores based on respondents' years of professional coding experience.\n"
   ]
  },
  {
   "cell_type": "code",
   "execution_count": null,
   "id": "8c607611-a591-4721-a9d6-8d6667d79b53",
   "metadata": {},
   "outputs": [],
   "source": [
    "## Write your code here\n",
    "\n",
    "# 4.2 Histogram of Job Satisfaction by YearsCodePro\n",
    "\n",
    "# Query to get data\n",
    "QUERY = \"\"\"\n",
    "SELECT JobSat, YearsCodePro\n",
    "FROM main\n",
    "WHERE JobSat IS NOT NULL AND YearsCodePro IS NOT NULL\n",
    "\"\"\"\n",
    "df_jobsat_exp = pd.read_sql_query(QUERY, conn)\n",
    "\n",
    "# Create grouped histogram by experience ranges\n",
    "experience_bins = [0, 5, 10, 15, 50]\n",
    "experience_labels = ['0-5 years', '5-10 years', '10-15 years', '15+ years']\n",
    "df_jobsat_exp['ExpGroup'] = pd.cut(df_jobsat_exp['YearsCodePro'], bins=experience_bins, labels=experience_labels)\n",
    "\n",
    "# Plot\n",
    "fig, axes = plt.subplots(2, 2, figsize=(14, 10))\n",
    "axes = axes.flatten()\n",
    "\n",
    "for idx, exp_group in enumerate(experience_labels):\n",
    "    data = df_jobsat_exp[df_jobsat_exp['ExpGroup'] == exp_group]['JobSat']\n",
    "    axes[idx].hist(data, bins=10, edgecolor='black', alpha=0.7, color='lightblue')\n",
    "    axes[idx].set_title(f'Job Satisfaction: {exp_group}')\n",
    "    axes[idx].set_xlabel('Job Satisfaction')\n",
    "    axes[idx].set_ylabel('Frequency')\n",
    "    axes[idx].grid(True, alpha=0.3)\n",
    "\n",
    "plt.tight_layout()\n",
    "plt.show()\n",
    "\n",
    "print(\"Job satisfaction by experience visualized\")"
   ]
  },
  {
   "cell_type": "markdown",
   "id": "021db650-b1bb-4a6a-a2c4-2549bebcf57c",
   "metadata": {},
   "source": [
    "### Final step: Close the database connection\n"
   ]
  },
  {
   "cell_type": "markdown",
   "id": "8a6a1f27-76a2-4dd8-9605-e869e353142c",
   "metadata": {},
   "source": [
    "Once you've completed the lab, make sure to close the connection to the SQLite database:\n",
    "\n"
   ]
  },
  {
   "cell_type": "code",
   "execution_count": null,
   "id": "1b96d859-5391-4054-9a6d-9f34bb39de38",
   "metadata": {},
   "outputs": [],
   "source": [
    "conn.close()"
   ]
  },
  {
   "cell_type": "markdown",
   "id": "24b84a3f-ebfc-4a59-86bb-ce8dc24ed673",
   "metadata": {},
   "source": [
    "### Summary\n"
   ]
  },
  {
   "cell_type": "markdown",
   "id": "b90aa3fc-b456-43a4-9c82-047393e8f9e0",
   "metadata": {},
   "source": [
    "In this lab, you used histograms to visualize various aspects of the dataset, focusing on:\n",
    "\n",
    "- Distribution of compensation, coding experience, and work hours.\n",
    "\n",
    "- Relationships in compensation across age groups and work status.\n",
    "\n",
    "- Composition of data by desired databases and work environments.\n",
    "\n",
    "- Comparisons of job satisfaction across years of experience.\n",
    "\n",
    "Histograms helped reveal patterns and distributions in the data, enhancing your understanding of developer demographics and preferences.\n"
   ]
  },
  {
   "cell_type": "markdown",
   "id": "51c85d65-ca8e-4ed5-8fff-a730dfd9bf21",
   "metadata": {},
   "source": [
    "## Authors:\n",
    "Ayushi Jain\n"
   ]
  },
  {
   "cell_type": "markdown",
   "id": "cbbd17a6-e387-4fe8-bc12-76d0e46baaf7",
   "metadata": {},
   "source": [
    "### Other Contributors:\n",
    "- Rav Ahuja\n",
    "- Lakshmi Holla\n",
    "- Malika\n"
   ]
  },
  {
   "cell_type": "markdown",
   "id": "15390d0e-e9d6-4795-b886-40314dee41f1",
   "metadata": {},
   "source": [
    "Copyright © IBM Corporation. All rights reserved.\n"
   ]
  }
 ],
 "metadata": {
  "kernelspec": {
   "display_name": "Python 3 (ipykernel)",
   "language": "python",
   "name": "python3"
  },
  "language_info": {
   "codemirror_mode": {
    "name": "ipython",
    "version": 3
   },
   "file_extension": ".py",
   "mimetype": "text/x-python",
   "name": "python",
   "nbconvert_exporter": "python",
   "pygments_lexer": "ipython3",
   "version": "3.11.9"
  },
  "prev_pub_hash": "96337e0806230d5187f9ae047a46e5046c13ed59019c1578bf93b4db5d0dcf76"
 },
 "nbformat": 4,
 "nbformat_minor": 4
}
