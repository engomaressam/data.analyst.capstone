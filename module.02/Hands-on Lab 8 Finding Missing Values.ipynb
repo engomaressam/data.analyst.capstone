{
 "cells": [
  {
   "cell_type": "markdown",
   "id": "04649e0a-2b4d-4f5b-8dc5-6ccd66036aaf",
   "metadata": {},
   "source": [
    "<p style=\"text-align:center\">\n",
    "    <a href=\"https://skills.network\" target=\"_blank\">\n",
    "    <img src=\"https://cf-courses-data.s3.us.cloud-object-storage.appdomain.cloud/assets/logos/SN_web_lightmode.png\" width=\"200\" alt=\"Skills Network Logo\"  />\n",
    "    </a>\n",
    "</p>\n"
   ]
  },
  {
   "cell_type": "markdown",
   "id": "77f71274-873a-4c08-8008-c2a73d68a57b",
   "metadata": {},
   "source": [
    "# **Finding Missing Values**\n"
   ]
  },
  {
   "cell_type": "markdown",
   "id": "cf9c92f6-834d-4a82-8cc6-1b475044a910",
   "metadata": {},
   "source": [
    "Estimated time needed: **30** minutes\n"
   ]
  },
  {
   "cell_type": "markdown",
   "id": "3653785c-0f5a-4a1a-951c-93d4eeba071a",
   "metadata": {},
   "source": [
    "Data wrangling is the process of cleaning, transforming, and organizing data to make it suitable for analysis. Finding and handling missing values is a crucial step in this process to ensure data accuracy and completeness. In this lab, you will focus exclusively on identifying and handling missing values in the dataset.\n"
   ]
  },
  {
   "cell_type": "markdown",
   "id": "7acb7b0a-8de6-4876-9077-d22e48cda467",
   "metadata": {},
   "source": [
    "## Objectives\n"
   ]
  },
  {
   "cell_type": "markdown",
   "id": "bb323aec-904e-4099-8f5a-f3b5a39581f0",
   "metadata": {},
   "source": [
    "After completing this lab, you will be able to:\n"
   ]
  },
  {
   "cell_type": "markdown",
   "id": "b5507c9c-cf8d-44ee-a7cd-8df571d33540",
   "metadata": {},
   "source": [
    "-   Identify missing values in the dataset.\n",
    "\n",
    "- Quantify missing values for specific columns.\n",
    "\n",
    "- Impute missing values using various strategies.\n"
   ]
  },
  {
   "cell_type": "markdown",
   "id": "0e0e42f0-a72b-4183-b0dc-8f448af505c0",
   "metadata": {},
   "source": [
    "## Hands on Lab\n"
   ]
  },
  {
   "cell_type": "markdown",
   "id": "3c59033c-73d8-41ca-9bd1-ae1a2ca93010",
   "metadata": {},
   "source": [
    "##### Setup: Install Required Libraries\n"
   ]
  },
  {
   "cell_type": "code",
   "execution_count": null,
   "id": "5222782a-bf20-42a3-a0eb-96fb4b6a5f0f",
   "metadata": {},
   "outputs": [],
   "source": [
    "!pip install pandas\n",
    "!pip install matplotlib\n",
    "!pip install seaborn"
   ]
  },
  {
   "cell_type": "markdown",
   "id": "92ccb65b-2831-4316-b177-050dd0d23930",
   "metadata": {},
   "source": [
    "##### Import Necessary Modules:\n"
   ]
  },
  {
   "cell_type": "code",
   "execution_count": null,
   "id": "41797691-5079-4b74-9e97-f0171ded33ad",
   "metadata": {},
   "outputs": [],
   "source": [
    "import pandas as pd\n",
    "import matplotlib.pyplot as plt\n",
    "import seaborn as sns"
   ]
  },
  {
   "cell_type": "markdown",
   "id": "018dc3ad-bcd3-4747-b450-69cdadb22dc2",
   "metadata": {},
   "source": [
    "## Tasks\n"
   ]
  },
  {
   "cell_type": "markdown",
   "id": "6c2b1af7-766a-421b-a35e-2f4b253869ae",
   "metadata": {},
   "source": [
    "<h2>1. Load the Dataset</h2>\n",
    "<p>\n",
    "We use the <code>pandas.read_csv()</code> function for reading CSV files. However, in this version of the lab, which operates on JupyterLite, the dataset needs to be downloaded to the interface using the provided code below.\n",
    "</p>\n"
   ]
  },
  {
   "cell_type": "markdown",
   "id": "18562ef2-1b12-4c25-8b5d-a0ad5fefc8c0",
   "metadata": {},
   "source": [
    "The functions below will download the dataset into your browser:\n",
    "\n"
   ]
  },
  {
   "cell_type": "code",
   "execution_count": null,
   "id": "c514cd58-4d1e-4dcb-839d-dfa1bd340372",
   "metadata": {},
   "outputs": [],
   "source": [
    "# Define the URL of the dataset\n",
    "file_path = \"https://cf-courses-data.s3.us.cloud-object-storage.appdomain.cloud/n01PQ9pSmiRX6520flujwQ/survey-data.csv\"\n",
    "\n",
    "# Load the dataset into a DataFrame\n",
    "df = pd.read_csv(file_path)\n",
    "\n",
    "# Display the first few rows to ensure it loaded correctly\n",
    "print(df.head())\n"
   ]
  },
  {
   "cell_type": "markdown",
   "id": "cc4cde80-bd9e-444a-b382-861da7c1e69c",
   "metadata": {},
   "source": [
    "### 2. Explore the Dataset\n",
    "##### Task 1: Display basic information and summary statistics of the dataset.\n"
   ]
  },
  {
   "cell_type": "code",
   "execution_count": null,
   "id": "2d884b29-3678-4c6e-be68-49a88e2db33b",
   "metadata": {},
   "outputs": [],
   "source": [
    "## Write your code here\n",
    "\n",
    "# Task 1: Display basic information and summary statistics\n",
    "\n",
    "print(\"Dataset Information:\")\n",
    "print(\"=\" * 60)\n",
    "df.info()\n",
    "\n",
    "print(\"\\n\" + \"=\" * 60)\n",
    "print(\"Summary Statistics:\")\n",
    "print(\"=\" * 60)\n",
    "print(df.describe())\n",
    "\n",
    "print(\"\\n\" + \"=\" * 60)\n",
    "print(f\"Dataset Shape: {df.shape}\")\n",
    "print(f\"Number of Columns: {len(df.columns)}\")\n",
    "print(f\"Number of Rows: {len(df)}\")"
   ]
  },
  {
   "cell_type": "markdown",
   "id": "3e652b9e-8513-4507-bb45-05a6e26d1eb8",
   "metadata": {},
   "source": [
    "### 3. Finding Missing Values\n",
    "##### Task 2: Identify missing values for all columns.\n"
   ]
  },
  {
   "cell_type": "code",
   "execution_count": null,
   "id": "603d04b3-eeb8-430a-b7d5-c075b18f3491",
   "metadata": {},
   "outputs": [],
   "source": [
    "## Write your code here\n",
    "\n",
    "# Task 2: Identify missing values for all columns\n",
    "\n",
    "print(\"Missing Values Analysis:\")\n",
    "print(\"=\" * 60)\n",
    "\n",
    "# Count missing values per column\n",
    "missing_values = df.isnull().sum()\n",
    "\n",
    "# Calculate percentage of missing values\n",
    "missing_percent = (df.isnull().sum() / len(df)) * 100\n",
    "\n",
    "# Create a summary DataFrame\n",
    "missing_summary = pd.DataFrame({\n",
    "    'Column': missing_values.index,\n",
    "    'Missing_Count': missing_values.values,\n",
    "    'Missing_Percentage': missing_percent.values\n",
    "})\n",
    "\n",
    "# Filter to show only columns with missing values\n",
    "missing_summary = missing_summary[missing_summary['Missing_Count'] > 0]\n",
    "missing_summary = missing_summary.sort_values('Missing_Count', ascending=False)\n",
    "\n",
    "print(f\"\\nColumns with missing values: {len(missing_summary)}\")\n",
    "print(\"\\nTop 10 columns with most missing values:\")\n",
    "print(missing_summary.head(10).to_string(index=False))"
   ]
  },
  {
   "cell_type": "markdown",
   "id": "207bad7c-b37a-4df9-9373-085131d4b5f0",
   "metadata": {},
   "source": [
    "##### Task 3: Visualize missing values using a heatmap (Using seaborn library).\n",
    "\n"
   ]
  },
  {
   "cell_type": "code",
   "execution_count": null,
   "id": "e8da8d88-bffe-4ba0-aab8-95275fd7a14e",
   "metadata": {},
   "outputs": [],
   "source": [
    "## Write your code here\n",
    "\n",
    "# Task 3: Visualize missing values using a heatmap\n",
    "\n",
    "# Create a heatmap of missing values\n",
    "plt.figure(figsize=(12, 8))\n",
    "\n",
    "# Select columns with the most missing values for visualization\n",
    "columns_to_plot = missing_summary.head(20)['Column'].tolist()\n",
    "\n",
    "if columns_to_plot:\n",
    "    # Create a boolean DataFrame where True = missing\n",
    "    missing_data = df[columns_to_plot].isnull()\n",
    "    \n",
    "    # Create heatmap\n",
    "    sns.heatmap(missing_data, cbar=True, cmap='viridis', yticklabels=False)\n",
    "    plt.title('Missing Values Heatmap (Top 20 Columns with Most Missing Data)')\n",
    "    plt.xlabel('Columns')\n",
    "    plt.ylabel('Rows')\n",
    "    plt.xticks(rotation=45, ha='right')\n",
    "    plt.tight_layout()\n",
    "    plt.show()\n",
    "else:\n",
    "    print(\"No missing values to visualize!\")"
   ]
  },
  {
   "cell_type": "markdown",
   "id": "0239cd11-94ae-4f07-97d7-39956e0084f7",
   "metadata": {},
   "source": [
    "##### Task 4: Count the number of missing rows for a specific column (e.g., `Employment`).\n"
   ]
  },
  {
   "cell_type": "code",
   "execution_count": null,
   "id": "cdae820f-35fc-41f9-af3b-5b9566c59fad",
   "metadata": {},
   "outputs": [],
   "source": [
    "## Write your code here\n",
    "\n",
    "# Task 4: Count the number of missing rows for Employment column\n",
    "\n",
    "if 'Employment' in df.columns:\n",
    "    employment_missing = df['Employment'].isnull().sum()\n",
    "    employment_missing_percent = (employment_missing / len(df)) * 100\n",
    "    \n",
    "    print(f\"Employment Column Missing Values:\")\n",
    "    print(f\"  Missing Count: {employment_missing}\")\n",
    "    print(f\"  Missing Percentage: {employment_missing_percent:.2f}%\")\n",
    "    print(f\"  Total Rows: {len(df)}\")\n",
    "    print(f\"  Non-Missing Rows: {len(df) - employment_missing}\")\n",
    "else:\n",
    "    print(\"Employment column not found in dataset\")"
   ]
  },
  {
   "cell_type": "markdown",
   "id": "f42596b4-9e41-47c6-b1c2-ff71f5b798c9",
   "metadata": {},
   "source": [
    "### 4. Imputing Missing Values\n",
    "##### Task 5: Identify the most frequent (majority) value in a specific column (e.g., `Employment`).\n"
   ]
  },
  {
   "cell_type": "code",
   "execution_count": null,
   "id": "dfdeadae-aff5-4861-bae3-0fe218dbbc19",
   "metadata": {},
   "outputs": [],
   "source": [
    "## Write your code here\n",
    "\n",
    "# Task 5: Identify the most frequent value in Employment column\n",
    "\n",
    "if 'Employment' in df.columns:\n",
    "    # Get value counts\n",
    "    employment_counts = df['Employment'].value_counts()\n",
    "    \n",
    "    print(\"Employment Value Counts:\")\n",
    "    print(employment_counts)\n",
    "    \n",
    "    # Get the most frequent value\n",
    "    most_frequent_employment = df['Employment'].mode()[0]\n",
    "    \n",
    "    print(f\"\\nMost Frequent Employment Value: '{most_frequent_employment}'\")\n",
    "    print(f\"Frequency: {employment_counts.iloc[0]}\")\n",
    "    print(f\"Percentage: {(employment_counts.iloc[0] / employment_counts.sum() * 100):.2f}%\")\n",
    "else:\n",
    "    print(\"Employment column not found in dataset\")"
   ]
  },
  {
   "cell_type": "markdown",
   "id": "742e56b4-7abd-4495-8334-640741313267",
   "metadata": {},
   "source": [
    "##### Task 6: Impute missing values in the `Employment` column with the most frequent value.\n",
    "\n"
   ]
  },
  {
   "cell_type": "code",
   "execution_count": null,
   "id": "7c97805e-1d5e-4212-be69-43db7d0616ed",
   "metadata": {},
   "outputs": [],
   "source": [
    "## Write your code here\n",
    "\n",
    "# Task 6: Impute missing values in Employment column\n",
    "\n",
    "if 'Employment' in df.columns:\n",
    "    # Store original missing count\n",
    "    original_missing = df['Employment'].isnull().sum()\n",
    "    \n",
    "    print(f\"Before Imputation:\")\n",
    "    print(f\"  Missing values: {original_missing}\")\n",
    "    \n",
    "    # Impute with most frequent value\n",
    "    most_frequent = df['Employment'].mode()[0]\n",
    "    df['Employment'].fillna(most_frequent, inplace=True)\n",
    "    \n",
    "    # Verify imputation\n",
    "    after_missing = df['Employment'].isnull().sum()\n",
    "    \n",
    "    print(f\"\\nAfter Imputation:\")\n",
    "    print(f\"  Missing values: {after_missing}\")\n",
    "    print(f\"  Values imputed: {original_missing - after_missing}\")\n",
    "    print(f\"  Imputation value used: '{most_frequent}'\")\n",
    "    \n",
    "    print(\"\\nImputation successful!\")\n",
    "else:\n",
    "    print(\"Employment column not found in dataset\")"
   ]
  },
  {
   "cell_type": "markdown",
   "id": "e3e57465-cfeb-4160-991d-9f77a68b7e34",
   "metadata": {},
   "source": [
    "### 5. Visualizing Imputed Data\n",
    "##### Task 7: Visualize the distribution of a column after imputation (e.g., `Employment`).\n"
   ]
  },
  {
   "cell_type": "code",
   "execution_count": null,
   "id": "f9f056b2-840b-4fb0-8399-c5ba0bdbfcca",
   "metadata": {},
   "outputs": [],
   "source": [
    "## Write your code here\n",
    "\n",
    "# Task 7: Visualize the distribution of Employment after imputation\n",
    "\n",
    "if 'Employment' in df.columns:\n",
    "    # Create a figure with two subplots\n",
    "    fig, axes = plt.subplots(1, 2, figsize=(15, 5))\n",
    "    \n",
    "    # Bar chart\n",
    "    employment_counts = df['Employment'].value_counts()\n",
    "    axes[0].bar(range(len(employment_counts)), employment_counts.values)\n",
    "    axes[0].set_xticks(range(len(employment_counts)))\n",
    "    axes[0].set_xticklabels(employment_counts.index, rotation=45, ha='right')\n",
    "    axes[0].set_title('Employment Distribution (After Imputation) - Bar Chart')\n",
    "    axes[0].set_xlabel('Employment Status')\n",
    "    axes[0].set_ylabel('Count')\n",
    "    \n",
    "    # Pie chart\n",
    "    axes[1].pie(employment_counts.values, labels=employment_counts.index, autopct='%1.1f%%')\n",
    "    axes[1].set_title('Employment Distribution (After Imputation) - Pie Chart')\n",
    "    \n",
    "    plt.tight_layout()\n",
    "    plt.show()\n",
    "    \n",
    "    # Print statistics\n",
    "    print(\"\\nEmployment Distribution Statistics:\")\n",
    "    print(employment_counts)\n",
    "    print(f\"\\nTotal respondents: {employment_counts.sum()}\")\n",
    "else:\n",
    "    print(\"Employment column not found in dataset\")"
   ]
  },
  {
   "cell_type": "markdown",
   "id": "41f746ca-9ae9-46c6-8a75-3f1b1c502f08",
   "metadata": {},
   "source": [
    "### Summary\n"
   ]
  },
  {
   "cell_type": "markdown",
   "id": "ab466018-4821-4950-bb41-e11308d83d5f",
   "metadata": {},
   "source": [
    "In this lab, you:\n",
    "- Loaded the dataset into a pandas DataFrame.\n",
    "- Identified missing values across all columns.\n",
    "- Quantified missing values in specific columns.\n",
    "- Imputed missing values in a categorical column using the most frequent value.\n",
    "- Visualized the imputed data for better understanding.\n",
    "  \n"
   ]
  },
  {
   "cell_type": "markdown",
   "id": "88e0e5ca-1a7d-4fc7-abbf-f0e28e11df03",
   "metadata": {},
   "source": [
    "Copyright © IBM Corporation. All rights reserved.\n"
   ]
  }
 ],
 "metadata": {
  "kernelspec": {
   "display_name": "Python 3 (ipykernel)",
   "language": "python",
   "name": "python3"
  },
  "language_info": {
   "codemirror_mode": {
    "name": "ipython",
    "version": 3
   },
   "file_extension": ".py",
   "mimetype": "text/x-python",
   "name": "python",
   "nbconvert_exporter": "python",
   "pygments_lexer": "ipython3",
   "version": "3.11.9"
  },
  "prev_pub_hash": "638535af002a48f8606dda28820b31d684eaab7b945c43b65b2edd1b1bd44677"
 },
 "nbformat": 4,
 "nbformat_minor": 4
}
