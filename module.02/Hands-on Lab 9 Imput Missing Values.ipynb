{
 "cells": [
  {
   "cell_type": "markdown",
   "id": "74466356-6758-4f74-b4ab-eff2df6e5ec5",
   "metadata": {},
   "source": [
    "<p style=\"text-align:center\">\n",
    "    <a href=\"https://skills.network\" target=\"_blank\">\n",
    "    <img src=\"https://cf-courses-data.s3.us.cloud-object-storage.appdomain.cloud/assets/logos/SN_web_lightmode.png\" width=\"200\" alt=\"Skills Network Logo\"  />\n",
    "    </a>\n",
    "</p>\n"
   ]
  },
  {
   "cell_type": "markdown",
   "id": "464a71fb-cf81-4e95-8210-e5e8ea156b22",
   "metadata": {},
   "source": [
    "# **Impute Missing Values**\n"
   ]
  },
  {
   "cell_type": "markdown",
   "id": "b1d346b4-f16b-4c56-a270-eb247487501a",
   "metadata": {},
   "source": [
    "Estimated time needed: **30** minutes\n"
   ]
  },
  {
   "cell_type": "markdown",
   "id": "c0c663ee-ce4e-451b-841d-b9e8ceb1a52c",
   "metadata": {},
   "source": [
    "In this lab, you will practice essential data wrangling techniques using the Stack Overflow survey dataset. The primary focus is on handling missing data and ensuring data quality. You will:\n",
    "\n",
    "- **Load the Data:** Import the dataset into a DataFrame using the pandas library.\n",
    "\n",
    "- **Clean the Data:** Identify and remove duplicate entries to maintain data integrity.\n",
    "\n",
    "- **Handle Missing Values:** Detect missing values, impute them with appropriate strategies, and verify the imputation to create a complete and reliable dataset for analysis.\n",
    "\n",
    "This lab equips you with the skills to effectively preprocess and clean real-world datasets, a crucial step in any data analysis project.\n"
   ]
  },
  {
   "cell_type": "markdown",
   "id": "ddd8c293-0565-4401-9e54-f9ea086d3113",
   "metadata": {},
   "source": [
    "## Objectives\n"
   ]
  },
  {
   "cell_type": "markdown",
   "id": "f8f48484-7179-4b2f-ad7f-24560fa0651c",
   "metadata": {},
   "source": [
    "In this lab, you will perform the following:\n"
   ]
  },
  {
   "cell_type": "markdown",
   "id": "16274089-f272-46f1-a2da-7eb42d0372a0",
   "metadata": {},
   "source": [
    "-   Identify missing values in the dataset.\n",
    "\n",
    "-   Apply techniques to impute missing values in the dataset.\n",
    "  \n",
    "-   Use suitable techniques to normalize data in the dataset.\n"
   ]
  },
  {
   "cell_type": "markdown",
   "id": "b6ed5515-0b50-4aa3-929b-08cac498bf82",
   "metadata": {},
   "source": [
    "-----\n"
   ]
  },
  {
   "cell_type": "markdown",
   "id": "6710d704-7a2c-4eb5-b28f-c52834908770",
   "metadata": {},
   "source": [
    "#### Install needed library\n"
   ]
  },
  {
   "cell_type": "code",
   "execution_count": null,
   "id": "f5b5f18a-2a73-427f-88c4-3267bf1cc945",
   "metadata": {},
   "outputs": [],
   "source": [
    "!pip install pandas"
   ]
  },
  {
   "cell_type": "markdown",
   "id": "5487051f-ccad-4a05-b848-f416bb2ccb66",
   "metadata": {},
   "source": [
    "### Step 1: Import Required Libraries\n"
   ]
  },
  {
   "cell_type": "code",
   "execution_count": null,
   "id": "188a365e-9df7-4238-80b2-d15e279ac133",
   "metadata": {},
   "outputs": [],
   "source": [
    "import pandas as pd"
   ]
  },
  {
   "cell_type": "markdown",
   "id": "a0266776-f4e9-4690-b57d-1694af0619aa",
   "metadata": {},
   "source": [
    "### Step 2: Load the Dataset Into a Dataframe\n"
   ]
  },
  {
   "cell_type": "markdown",
   "id": "64e7a616-9a52-4854-b846-256b0ee941fb",
   "metadata": {},
   "source": [
    "#### **Read Data**\n",
    "<p>\n",
    "The functions below will download the dataset into your browser:\n",
    "</p>\n"
   ]
  },
  {
   "cell_type": "code",
   "execution_count": null,
   "id": "29cfa626-8226-463a-9e93-4f2c2d333e23",
   "metadata": {},
   "outputs": [],
   "source": [
    "file_path = \"https://cf-courses-data.s3.us.cloud-object-storage.appdomain.cloud/n01PQ9pSmiRX6520flujwQ/survey-data.csv\"\n",
    "df = pd.read_csv(file_path)\n",
    "\n",
    "# Display the first few rows to ensure it loaded correctly\n",
    "print(df.head())"
   ]
  },
  {
   "cell_type": "markdown",
   "id": "87ba2b4b-aa12-467d-8397-f2092dd5ce2d",
   "metadata": {},
   "source": [
    "### Step 3. Finding and Removing Duplicates\n",
    "##### Task 1: Identify duplicate rows in the dataset.\n"
   ]
  },
  {
   "cell_type": "code",
   "execution_count": null,
   "id": "a7c2b5aa-6bca-4ea2-80ea-834b7f0e7f50",
   "metadata": {},
   "outputs": [],
   "source": [
    "## Write your code here\n",
    "\n",
    "# Task 1: Identify duplicate rows\n",
    "\n",
    "# Count duplicate rows\n",
    "num_duplicates = df.duplicated().sum()\n",
    "print(f\"Number of duplicate rows: {num_duplicates}\")\n",
    "\n",
    "# Display some duplicate rows\n",
    "if num_duplicates > 0:\n",
    "    print(\"\\nFirst 5 duplicate rows:\")\n",
    "    print(df[df.duplicated(keep=False)].head())"
   ]
  },
  {
   "cell_type": "markdown",
   "id": "e9572ce8-3716-4acf-aaff-d6531a16693d",
   "metadata": {},
   "source": [
    "##### Task 2: Remove the duplicate rows from the dataframe.\n",
    "\n"
   ]
  },
  {
   "cell_type": "code",
   "execution_count": null,
   "id": "8612b6bc-feab-42b0-9072-562d9d7ffa50",
   "metadata": {},
   "outputs": [],
   "source": [
    "## Write your code here\n",
    "\n",
    "# Task 2: Remove duplicate rows\n",
    "\n",
    "# Remove duplicates\n",
    "df = df.drop_duplicates()\n",
    "\n",
    "print(f\"Dataset shape after removing duplicates: {df.shape}\")\n",
    "print(f\"Remaining duplicates: {df.duplicated().sum()}\")"
   ]
  },
  {
   "cell_type": "markdown",
   "id": "a618ea68-6987-4637-90c3-cb4fe75903c5",
   "metadata": {},
   "source": [
    "### Step 4: Finding Missing Values\n",
    "##### Task 3: Find the missing values for all columns.\n"
   ]
  },
  {
   "cell_type": "code",
   "execution_count": null,
   "id": "02d297a0-d346-4cf1-a611-abbaa9b122f4",
   "metadata": {},
   "outputs": [],
   "source": [
    "## Write your code here\n",
    "\n",
    "# Task 3: Find missing values for all columns\n",
    "\n",
    "missing_values = df.isnull().sum()\n",
    "print(\"Missing values per column:\")\n",
    "print(missing_values[missing_values > 0].sort_values(ascending=False).head(10))\n",
    "\n",
    "print(f\"\\nTotal missing values: {missing_values.sum()}\")"
   ]
  },
  {
   "cell_type": "markdown",
   "id": "18019a73-81cc-46de-99e8-cf49fe7e936d",
   "metadata": {},
   "source": [
    "##### Task 4: Find out how many rows are missing in the column RemoteWork.\n"
   ]
  },
  {
   "cell_type": "code",
   "execution_count": null,
   "id": "b5f3e1ae-c149-4a84-8b78-dea41444dfae",
   "metadata": {},
   "outputs": [],
   "source": [
    "## Write your code here\n",
    "\n",
    "# Task 4: Find missing rows in RemoteWork column\n",
    "\n",
    "if 'RemoteWork' in df.columns:\n",
    "    remote_missing = df['RemoteWork'].isnull().sum()\n",
    "    print(f\"Missing values in RemoteWork: {remote_missing}\")\n",
    "    print(f\"Percentage missing: {(remote_missing / len(df) * 100):.2f}%\")\n",
    "else:\n",
    "    print(\"RemoteWork column not found\")"
   ]
  },
  {
   "cell_type": "markdown",
   "id": "3f499b03-1e74-4e7b-ab3f-13e825d45336",
   "metadata": {},
   "source": [
    "### Step 5. Imputing Missing Values\n",
    "##### Task 5: Find the value counts for the column RemoteWork.\n"
   ]
  },
  {
   "cell_type": "code",
   "execution_count": null,
   "id": "d5d5fd16-8b03-4f3b-9443-88d1ed8d351c",
   "metadata": {},
   "outputs": [],
   "source": [
    "## Write your code here\n",
    "\n",
    "# Task 5: Find value counts for RemoteWork\n",
    "\n",
    "if 'RemoteWork' in df.columns:\n",
    "    print(\"RemoteWork value counts:\")\n",
    "    print(df['RemoteWork'].value_counts())\n",
    "else:\n",
    "    print(\"RemoteWork column not found\")"
   ]
  },
  {
   "cell_type": "markdown",
   "id": "7323936a-5465-4434-ba48-1d0a24eb263c",
   "metadata": {},
   "source": [
    "##### Task 6: Identify the most frequent (majority) value in the RemoteWork column.\n",
    "\n"
   ]
  },
  {
   "cell_type": "code",
   "execution_count": null,
   "id": "bea2746f-1cf9-421e-a3f7-b69fa6464076",
   "metadata": {},
   "outputs": [],
   "source": [
    "## Write your code here\n",
    "\n",
    "# Task 6: Identify most frequent value in RemoteWork\n",
    "\n",
    "if 'RemoteWork' in df.columns:\n",
    "    most_frequent = df['RemoteWork'].mode()[0]\n",
    "    print(f\"Most frequent value in RemoteWork: '{most_frequent}'\")\n",
    "    \n",
    "    # Show frequency\n",
    "    value_counts = df['RemoteWork'].value_counts()\n",
    "    print(f\"Frequency: {value_counts.iloc[0]}\")\n",
    "    print(f\"Percentage: {(value_counts.iloc[0] / value_counts.sum() * 100):.2f}%\")\n",
    "else:\n",
    "    print(\"RemoteWork column not found\")"
   ]
  },
  {
   "cell_type": "markdown",
   "id": "c0210577-6fc7-4e52-8fad-f84835da0956",
   "metadata": {},
   "source": [
    "##### Task 7: Impute (replace) all the empty rows in the column RemoteWork with the majority value.\n",
    "\n"
   ]
  },
  {
   "cell_type": "code",
   "execution_count": null,
   "id": "5d91447d-834b-4bb6-8fa5-57b88c8eaa13",
   "metadata": {},
   "outputs": [],
   "source": [
    "## Write your code here\n",
    "\n",
    "# Task 7: Impute missing values in RemoteWork\n",
    "\n",
    "if 'RemoteWork' in df.columns:\n",
    "    # Store original missing count\n",
    "    original_missing = df['RemoteWork'].isnull().sum()\n",
    "    \n",
    "    # Get most frequent value\n",
    "    most_frequent = df['RemoteWork'].mode()[0]\n",
    "    \n",
    "    # Impute missing values\n",
    "    df['RemoteWork'] = df['RemoteWork'].fillna(most_frequent)\n",
    "    \n",
    "    # Verify\n",
    "    after_missing = df['RemoteWork'].isnull().sum()\n",
    "    print(f\"Missing values before imputation: {original_missing}\")\n",
    "    print(f\"Missing values after imputation: {after_missing}\")\n",
    "    print(f\"Values imputed: {original_missing - after_missing}\")\n",
    "    print(f\"Imputation value used: '{most_frequent}'\")\n",
    "else:\n",
    "    print(\"RemoteWork column not found\")"
   ]
  },
  {
   "cell_type": "markdown",
   "id": "d9b3b12d-d8b7-4502-b6a3-d721207c0ca3",
   "metadata": {},
   "source": [
    "##### Task 8: Check for any compensation-related columns and describe their distribution.\n",
    "\n"
   ]
  },
  {
   "cell_type": "code",
   "execution_count": null,
   "id": "9e258f23-dc60-4495-badb-102a1bb5d26b",
   "metadata": {},
   "outputs": [],
   "source": [
    "## Write your code here\n",
    "\n",
    "# Task 8: Check for compensation columns and describe distribution\n",
    "\n",
    "# Look for compensation-related columns\n",
    "comp_columns = [col for col in df.columns if 'comp' in col.lower() or 'salary' in col.lower()]\n",
    "\n",
    "print(\"Compensation-related columns found:\")\n",
    "print(comp_columns)\n",
    "\n",
    "# Describe ConvertedCompYearly if it exists\n",
    "if 'ConvertedCompYearly' in df.columns:\n",
    "    print(\"\\nConvertedCompYearly distribution:\")\n",
    "    print(df['ConvertedCompYearly'].describe())\n",
    "    \n",
    "    print(f\"\\nMissing values: {df['ConvertedCompYearly'].isnull().sum()}\")\n",
    "    print(f\"Percentage missing: {(df['ConvertedCompYearly'].isnull().sum() / len(df) * 100):.2f}%\")"
   ]
  },
  {
   "cell_type": "markdown",
   "id": "ba442929-13cc-4420-aff3-2659ed8b4baa",
   "metadata": {},
   "source": [
    "### Summary \n"
   ]
  },
  {
   "cell_type": "markdown",
   "id": "856431bf-53ef-449a-bd58-25105598e17f",
   "metadata": {},
   "source": [
    "**In this lab, you focused on imputing missing values in the dataset.**\n",
    "\n",
    "- Use the <code>pandas.read_csv()</code> function to load a dataset from a CSV file into a DataFrame.\n",
    "\n",
    "- Download the dataset if it's not available online and specify the correct file path.\n",
    "\n"
   ]
  },
  {
   "cell_type": "markdown",
   "id": "b61dfe67-834d-456d-b6c9-83d09c87fa2f",
   "metadata": {},
   "source": [
    "<!--\n",
    "## Change Log\n",
    "|Date (YYYY-MM-DD)|Version|Changed By|Change Description|\n",
    "|-|-|-|-|\n",
    "|2024-11-05|1.3|Madhusudhan Moole|Updated lab|\n",
    "|2024-10-29|1.2|Madhusudhan Moole|Updated lab|\n",
    "|2024-09-27|1.1|Madhusudhan Moole|Updated lab|\n",
    "|2024-09-26|1.0|Raghul Ramesh|Created lab|\n",
    "--!>\n"
   ]
  },
  {
   "cell_type": "markdown",
   "id": "499fc479-e7da-41aa-b41b-6c8ba5ee57d9",
   "metadata": {},
   "source": [
    "Copyright © IBM Corporation. All rights reserved.\n"
   ]
  }
 ],
 "metadata": {
  "kernelspec": {
   "display_name": "Python 3 (ipykernel)",
   "language": "python",
   "name": "python3"
  },
  "language_info": {
   "codemirror_mode": {
    "name": "ipython",
    "version": 3
   },
   "file_extension": ".py",
   "mimetype": "text/x-python",
   "name": "python",
   "nbconvert_exporter": "python",
   "pygments_lexer": "ipython3",
   "version": "3.11.9"
  },
  "prev_pub_hash": "70ab641719bca2be0bdcb38f6a8b5de7851b6e9c28d41b9407096c62e74916a6"
 },
 "nbformat": 4,
 "nbformat_minor": 4
}
