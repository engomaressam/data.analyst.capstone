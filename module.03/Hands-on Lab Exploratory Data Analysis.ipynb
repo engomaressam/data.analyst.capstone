{
 "cells": [
  {
   "cell_type": "markdown",
   "id": "37812964-0ef3-47e4-8443-7dd743d19e61",
   "metadata": {},
   "source": [
    "<p style=\"text-align:center\">\n",
    "    <a href=\"https://skills.network\" target=\"_blank\">\n",
    "    <img src=\"https://cf-courses-data.s3.us.cloud-object-storage.appdomain.cloud/assets/logos/SN_web_lightmode.png\" width=\"200\" alt=\"Skills Network Logo\"  />\n",
    "    </a>\n",
    "</p>\n"
   ]
  },
  {
   "cell_type": "markdown",
   "id": "ec620317-bf23-4bd8-b2b0-51c67277971f",
   "metadata": {},
   "source": [
    "# **Lab: Exploratory Data Analysis**\n"
   ]
  },
  {
   "cell_type": "markdown",
   "id": "b280a545-7136-4334-a6aa-9e7f846d417f",
   "metadata": {},
   "source": [
    "Estimated time needed: **30** minutes\n"
   ]
  },
  {
   "cell_type": "markdown",
   "id": "19df14e0-c597-439c-94ce-c563d48e64f1",
   "metadata": {},
   "source": [
    "In this lab, you will work with a cleaned dataset to perform Exploratory Data Analysis or EDA. \n"
   ]
  },
  {
   "cell_type": "markdown",
   "id": "cf702f4e-7cc2-4f50-a6de-db01f884e4d5",
   "metadata": {},
   "source": [
    "## Objectives\n"
   ]
  },
  {
   "cell_type": "markdown",
   "id": "88cd7550-0f1e-4f91-9715-fd87f34960ae",
   "metadata": {},
   "source": [
    "In this lab, you will perform the following:\n"
   ]
  },
  {
   "cell_type": "markdown",
   "id": "44ffe653-d340-46c1-822d-8a35bde9b892",
   "metadata": {},
   "source": [
    "- Examine the structure of a dataset.\n",
    "\n",
    "- Handle missing values effectively.\n",
    "\n",
    "- Conduct summary statistics on key columns.\n",
    "\n",
    "- Analyze employment status, job satisfaction, programming language usage, and trends in remote work.\n"
   ]
  },
  {
   "cell_type": "markdown",
   "id": "7f58ecf8-e41f-43ac-b0fb-b2d273d137b9",
   "metadata": {},
   "source": [
    "## Hands on Lab\n"
   ]
  },
  {
   "cell_type": "markdown",
   "id": "de87f5a7-1d4c-4d65-9719-a2b256e562cd",
   "metadata": {},
   "source": [
    "#### Step 1: Install and Import Libraries\n"
   ]
  },
  {
   "cell_type": "markdown",
   "id": "5acb768b-3bd8-4e08-839e-ccbf26d68dda",
   "metadata": {},
   "source": [
    "Install the necessary libraries for data manipulation and visualization.\n"
   ]
  },
  {
   "cell_type": "code",
   "execution_count": null,
   "id": "d82cd7b9-f8ef-4a0a-bf5f-77bf509686fa",
   "metadata": {},
   "outputs": [],
   "source": [
    "!pip install pandas\n",
    "!pip install matplotlib\n",
    "!pip install seaborn\n",
    "\n",
    "import pandas as pd\n",
    "import matplotlib.pyplot as plt\n",
    "import seaborn as sns"
   ]
  },
  {
   "cell_type": "markdown",
   "id": "7010a786-9a10-4f7a-86b7-588ff29da3cd",
   "metadata": {},
   "source": [
    "#### Step 2: Load and Preview the Dataset\n",
    "Load the dataset from the provided URL. Use df.head() to display the first few rows to get an overview of the structure.\n"
   ]
  },
  {
   "cell_type": "code",
   "execution_count": null,
   "id": "b4e18665-4d21-43f6-80a1-b7627494af30",
   "metadata": {},
   "outputs": [],
   "source": [
    "# Load the Stack Overflow survey dataset\n",
    "data_url = 'https://cf-courses-data.s3.us.cloud-object-storage.appdomain.cloud/n01PQ9pSmiRX6520flujwQ/survey-data.csv'\n",
    "df = pd.read_csv(data_url)\n",
    "\n",
    "# Set pandas option to display all columns\n",
    "pd.set_option('display.max_columns', None)\n",
    "\n",
    "# Display the first few rows of the dataset\n",
    "df.head()"
   ]
  },
  {
   "cell_type": "markdown",
   "id": "1ed5b68c-4aa3-4380-a46a-177f52a4bd0b",
   "metadata": {},
   "source": [
    "#### Step 3: Handling Missing Data\n"
   ]
  },
  {
   "cell_type": "markdown",
   "id": "aaca96bb-941a-43d6-9872-bd8766731919",
   "metadata": {},
   "source": [
    "Identify and manage missing values in critical columns such as `Employment`, `JobSat`, and `RemoteWork`. Implement a strategy to fill or drop these values, depending on the significance of the missing data.\n"
   ]
  },
  {
   "cell_type": "code",
   "execution_count": null,
   "id": "a66aa8cc-6728-4fb1-955f-3f523e09d00a",
   "metadata": {},
   "outputs": [],
   "source": [
    "## Write your code here\n",
    "\n",
    "# Step 3: Handling Missing Data\n",
    "\n",
    "# Identify missing values in critical columns\n",
    "print(\"Missing values in critical columns:\")\n",
    "critical_columns = ['Employment', 'JobSat', 'RemoteWork']\n",
    "for col in critical_columns:\n",
    "    if col in df.columns:\n",
    "        missing = df[col].isnull().sum()\n",
    "        print(f\"  {col}: {missing} ({(missing/len(df)*100):.2f}%)\")\n",
    "\n",
    "# Handle missing values\n",
    "# For Employment: fill with mode\n",
    "if 'Employment' in df.columns and df['Employment'].isnull().sum() > 0:\n",
    "    df['Employment'].fillna(df['Employment'].mode()[0], inplace=True)\n",
    "\n",
    "# For JobSat: fill with median if numeric, mode if categorical\n",
    "if 'JobSat' in df.columns and df['JobSat'].isnull().sum() > 0:\n",
    "    df['JobSat'].fillna(df['JobSat'].mode()[0], inplace=True)\n",
    "\n",
    "# For RemoteWork: fill with mode\n",
    "if 'RemoteWork' in df.columns and df['RemoteWork'].isnull().sum() > 0:\n",
    "    df['RemoteWork'].fillna(df['RemoteWork'].mode()[0], inplace=True)\n",
    "\n",
    "print(\"\\nMissing values after handling:\")\n",
    "for col in critical_columns:\n",
    "    if col in df.columns:\n",
    "        print(f\"  {col}: {df[col].isnull().sum()}\")"
   ]
  },
  {
   "cell_type": "markdown",
   "id": "209b2e9a-86b2-40bf-b873-4153d0d005a3",
   "metadata": {},
   "source": [
    "#### Step 4: Analysis of Experience and Job Satisfaction\n"
   ]
  },
  {
   "cell_type": "markdown",
   "id": "d06cd451-7cd5-4fef-b609-505198d34d4a",
   "metadata": {},
   "source": [
    "Analyze the relationship between years of professional coding experience (`YearsCodePro`) and job satisfaction (`JobSat`). Summarize `YearsCodePro` and calculate median satisfaction scores based on experience ranges.\n",
    "\n",
    "- Create experience ranges for `YearsCodePro` (e.g., `0-5`, `5-10`, `10-20`, `>20` years).\n",
    "\n",
    "- Calculate the median `JobSat` for each range.\n",
    "\n",
    "- Visualize the relationship using a bar plot or similar visualization.\n"
   ]
  },
  {
   "cell_type": "code",
   "execution_count": null,
   "id": "de1e6515-f395-4a55-a29f-eba215ef01c0",
   "metadata": {},
   "outputs": [],
   "source": [
    "## Write your code here\n",
    "\n",
    "# Step 4: Analysis of Experience and Job Satisfaction\n",
    "\n",
    "# Create experience ranges for YearsCodePro\n",
    "if 'YearsCodePro' in df.columns and 'JobSat' in df.columns:\n",
    "    # Define experience ranges\n",
    "    def categorize_experience(years):\n",
    "        try:\n",
    "            years = float(years)\n",
    "            if years <= 5:\n",
    "                return '0-5 years'\n",
    "            elif years <= 10:\n",
    "                return '5-10 years'\n",
    "            elif years <= 20:\n",
    "                return '10-20 years'\n",
    "            else:\n",
    "                return '>20 years'\n",
    "        except:\n",
    "            return 'Unknown'\n",
    "    \n",
    "    df['ExperienceRange'] = df['YearsCodePro'].apply(categorize_experience)\n",
    "    \n",
    "    # Calculate median JobSat for each range (if JobSat is numeric)\n",
    "    print(\"Job Satisfaction by Experience Range:\")\n",
    "    satisfaction_by_exp = df.groupby('ExperienceRange')['JobSat'].agg(['count', 'median', 'mean'])\n",
    "    print(satisfaction_by_exp)\n",
    "    \n",
    "    # Visualize with bar plot\n",
    "    plt.figure(figsize=(10, 6))\n",
    "    exp_order = ['0-5 years', '5-10 years', '10-20 years', '>20 years', 'Unknown']\n",
    "    satisfaction_median = df.groupby('ExperienceRange')['JobSat'].median().reindex(exp_order)\n",
    "    satisfaction_median.plot(kind='bar', color='skyblue', edgecolor='black')\n",
    "    plt.title('Median Job Satisfaction by Experience Range')\n",
    "    plt.xlabel('Experience Range')\n",
    "    plt.ylabel('Median Job Satisfaction')\n",
    "    plt.xticks(rotation=45)\n",
    "    plt.tight_layout()\n",
    "    plt.show()"
   ]
  },
  {
   "cell_type": "markdown",
   "id": "17d252c7-d63f-4499-99fa-0e9a4bd1b41d",
   "metadata": {},
   "source": [
    "#### Step 5: Visualize Job Satisfaction\n"
   ]
  },
  {
   "cell_type": "markdown",
   "id": "3d41ef87-db9e-49b2-b287-f76c897619da",
   "metadata": {},
   "source": [
    "Use a count plot to show the distribution of `JobSat` values. This provides insights into the overall satisfaction levels of respondents.\n"
   ]
  },
  {
   "cell_type": "code",
   "execution_count": null,
   "id": "1398e5c2-4459-481b-8cea-3dca9be7048c",
   "metadata": {},
   "outputs": [],
   "source": [
    "## Write your code here\n",
    "\n",
    "# Step 5: Visualize Job Satisfaction\n",
    "\n",
    "if 'JobSat' in df.columns:\n",
    "    plt.figure(figsize=(12, 5))\n",
    "    \n",
    "    # Count plot\n",
    "    plt.subplot(1, 2, 1)\n",
    "    sns.countplot(data=df, x='JobSat', palette='viridis')\n",
    "    plt.title('Distribution of Job Satisfaction')\n",
    "    plt.xlabel('Job Satisfaction Level')\n",
    "    plt.ylabel('Count')\n",
    "    plt.xticks(rotation=45)\n",
    "    \n",
    "    # Pie chart (if categorical)\n",
    "    plt.subplot(1, 2, 2)\n",
    "    jobsat_counts = df['JobSat'].value_counts()\n",
    "    plt.pie(jobsat_counts.values, labels=jobsat_counts.index, autopct='%1.1f%%')\n",
    "    plt.title('Job Satisfaction Distribution')\n",
    "    \n",
    "    plt.tight_layout()\n",
    "    plt.show()\n",
    "    \n",
    "    print(\"\\nJob Satisfaction Summary:\")\n",
    "    print(df['JobSat'].value_counts())"
   ]
  },
  {
   "cell_type": "markdown",
   "id": "83938256-4f7f-4bc4-935c-4f23cf77d86e",
   "metadata": {},
   "source": [
    "#### Step 6: Analyzing Remote Work Preferences by Job Role\n"
   ]
  },
  {
   "cell_type": "markdown",
   "id": "ce749c71-c309-42b0-86f1-f7db276161c4",
   "metadata": {},
   "source": [
    "Analyze trends in remote work based on job roles. Use the `RemoteWork` and `Employment` columns to explore preferences and examine if specific job roles prefer remote work more than others.\n",
    "\n",
    "- Use a count plot to show remote work distribution.\n",
    "\n",
    "- Cross-tabulate remote work preferences by employment type (e.g., full-time, part-time) and job roles.\n"
   ]
  },
  {
   "cell_type": "code",
   "execution_count": null,
   "id": "0d99d488-8fd6-4530-a1ba-2cf9cc015123",
   "metadata": {},
   "outputs": [],
   "source": [
    "## Write your code here\n",
    "\n",
    "# Step 6: Analyzing Remote Work Preferences by Job Role\n",
    "\n",
    "if 'RemoteWork' in df.columns and 'Employment' in df.columns:\n",
    "    # Count plot for remote work distribution\n",
    "    plt.figure(figsize=(12, 6))\n",
    "    \n",
    "    plt.subplot(1, 2, 1)\n",
    "    sns.countplot(data=df, x='RemoteWork', palette='Set2')\n",
    "    plt.title('Remote Work Distribution')\n",
    "    plt.xlabel('Remote Work Status')\n",
    "    plt.ylabel('Count')\n",
    "    plt.xticks(rotation=45, ha='right')\n",
    "    \n",
    "    # Cross-tabulation\n",
    "    plt.subplot(1, 2, 2)\n",
    "    crosstab = pd.crosstab(df['Employment'], df['RemoteWork'])\n",
    "    crosstab.plot(kind='bar', stacked=True, ax=plt.gca(), colormap='viridis')\n",
    "    plt.title('Remote Work by Employment Type')\n",
    "    plt.xlabel('Employment Type')\n",
    "    plt.ylabel('Count')\n",
    "    plt.legend(title='Remote Work', bbox_to_anchor=(1.05, 1))\n",
    "    plt.xticks(rotation=45, ha='right')\n",
    "    \n",
    "    plt.tight_layout()\n",
    "    plt.show()\n",
    "    \n",
    "    print(\"\\nRemote Work Preferences:\")\n",
    "    print(df['RemoteWork'].value_counts())\n",
    "    print(\"\\nCross-tabulation (Employment vs RemoteWork):\")\n",
    "    print(crosstab)"
   ]
  },
  {
   "cell_type": "markdown",
   "id": "6cc90c26-09aa-4740-992e-34ea770a016a",
   "metadata": {},
   "source": [
    "#### Step 7: Analyzing Programming Language Trends by Region\n"
   ]
  },
  {
   "cell_type": "markdown",
   "id": "83f0c576-954c-4938-ac4a-176d086f96a7",
   "metadata": {},
   "source": [
    "Analyze the popularity of programming languages by region. Use the `LanguageHaveWorkedWith` column to investigate which languages are most used in different regions.\n",
    "\n",
    "- Filter data by country or region.\n",
    "\n",
    "- Visualize the top programming languages by region with a bar plot or heatmap.\n"
   ]
  },
  {
   "cell_type": "code",
   "execution_count": null,
   "id": "0933dc67-e083-4155-ae32-6848e03047d8",
   "metadata": {},
   "outputs": [],
   "source": [
    "## Write your code here\n",
    "\n",
    "# Step 7: Analyzing Programming Language Trends by Region\n",
    "\n",
    "if 'LanguageHaveWorkedWith' in df.columns and 'Country' in df.columns:\n",
    "    # Get top 5 countries\n",
    "    top_countries = df['Country'].value_counts().head(5).index\n",
    "    \n",
    "    # Filter for top countries\n",
    "    df_top_countries = df[df['Country'].isin(top_countries)]\n",
    "    \n",
    "    # Parse programming languages (they are semicolon-separated)\n",
    "    languages_list = []\n",
    "    for langs in df_top_countries['LanguageHaveWorkedWith'].dropna():\n",
    "        if isinstance(langs, str):\n",
    "            languages_list.extend([lang.strip() for lang in langs.split(';')])\n",
    "    \n",
    "    # Get top 10 languages\n",
    "    from collections import Counter\n",
    "    lang_counts = Counter(languages_list)\n",
    "    top_languages = [lang for lang, count in lang_counts.most_common(10)]\n",
    "    \n",
    "    print(\"Top 10 Programming Languages:\")\n",
    "    for i, (lang, count) in enumerate(lang_counts.most_common(10), 1):\n",
    "        print(f\"{i}. {lang}: {count}\")\n",
    "    \n",
    "    # Visualize\n",
    "    plt.figure(figsize=(12, 6))\n",
    "    langs, counts = zip(*lang_counts.most_common(10))\n",
    "    plt.barh(range(len(langs)), counts, color='coral')\n",
    "    plt.yticks(range(len(langs)), langs)\n",
    "    plt.xlabel('Frequency')\n",
    "    plt.title('Top 10 Programming Languages')\n",
    "    plt.gca().invert_yaxis()\n",
    "    plt.tight_layout()\n",
    "    plt.show()"
   ]
  },
  {
   "cell_type": "markdown",
   "id": "06d0db37-96f9-41ea-b5e7-c6dae279f2ed",
   "metadata": {},
   "source": [
    "#### Step 8: Correlation Between Experience and Satisfaction\n"
   ]
  },
  {
   "cell_type": "markdown",
   "id": "cabd0313-dc38-4776-80a5-a5ea6f5af04c",
   "metadata": {},
   "source": [
    "Examine how years of experience (`YearsCodePro`) correlate with job satisfaction (`JobSatPoints_1`). Use a scatter plot to visualize this relationship.\n"
   ]
  },
  {
   "cell_type": "code",
   "execution_count": null,
   "id": "a1772bd0-dd64-4de7-99d2-6b1c875269fc",
   "metadata": {},
   "outputs": [],
   "source": [
    "## Write your code here\n",
    "\n",
    "# Step 8: Correlation Between Experience and Satisfaction\n",
    "\n",
    "if 'YearsCodePro' in df.columns and 'JobSatPoints_1' in df.columns:\n",
    "    # Create scatter plot\n",
    "    plt.figure(figsize=(10, 6))\n",
    "    \n",
    "    # Filter out non-numeric values\n",
    "    df_numeric = df[['YearsCodePro', 'JobSatPoints_1']].dropna()\n",
    "    \n",
    "    plt.scatter(df_numeric['YearsCodePro'], df_numeric['JobSatPoints_1'], \n",
    "                alpha=0.5, s=20, c='blue')\n",
    "    plt.xlabel('Years of Professional Coding Experience')\n",
    "    plt.ylabel('Job Satisfaction Points')\n",
    "    plt.title('Correlation: Experience vs Job Satisfaction')\n",
    "    plt.grid(True, alpha=0.3)\n",
    "    plt.tight_layout()\n",
    "    plt.show()\n",
    "    \n",
    "    # Calculate correlation\n",
    "    correlation = df_numeric['YearsCodePro'].corr(df_numeric['JobSatPoints_1'])\n",
    "    print(f\"\\nCorrelation coefficient: {correlation:.4f}\")\n",
    "    \n",
    "    if abs(correlation) < 0.3:\n",
    "        print(\"Weak correlation\")\n",
    "    elif abs(correlation) < 0.7:\n",
    "        print(\"Moderate correlation\")\n",
    "    else:\n",
    "        print(\"Strong correlation\")"
   ]
  },
  {
   "cell_type": "markdown",
   "id": "861d9620-541f-4e84-a2ea-4eff8c96a0c1",
   "metadata": {},
   "source": [
    "#### Step 9: Educational Background and Employment Type\n"
   ]
  },
  {
   "cell_type": "markdown",
   "id": "db02ad60-6937-49a6-82e0-5e37996a5aea",
   "metadata": {},
   "source": [
    "Explore how educational background (`EdLevel`) relates to employment type (`Employment`). Use cross-tabulation and visualizations to understand if higher education correlates with specific employment types.\n"
   ]
  },
  {
   "cell_type": "code",
   "execution_count": null,
   "id": "7808047a-6d11-4d5e-ae6e-9d2efc78d5a8",
   "metadata": {},
   "outputs": [],
   "source": [
    "## Write your code here\n",
    "\n",
    "# Step 9: Educational Background and Employment Type\n",
    "\n",
    "if 'EdLevel' in df.columns and 'Employment' in df.columns:\n",
    "    # Cross-tabulation\n",
    "    crosstab_edu = pd.crosstab(df['EdLevel'], df['Employment'])\n",
    "    \n",
    "    print(\"Cross-tabulation: Education Level vs Employment Type\")\n",
    "    print(crosstab_edu)\n",
    "    \n",
    "    # Visualize with stacked bar plot\n",
    "    plt.figure(figsize=(14, 8))\n",
    "    crosstab_edu.plot(kind='bar', stacked=True, colormap='tab20', figsize=(14, 8))\n",
    "    plt.title('Education Level vs Employment Type')\n",
    "    plt.xlabel('Education Level')\n",
    "    plt.ylabel('Count')\n",
    "    plt.legend(title='Employment Type', bbox_to_anchor=(1.05, 1), loc='upper left')\n",
    "    plt.xticks(rotation=45, ha='right')\n",
    "    plt.tight_layout()\n",
    "    plt.show()\n",
    "    \n",
    "    # Show top education levels by employment type\n",
    "    print(\"\\nTop 5 Education Levels for Full-Time Employment:\")\n",
    "    if 'Employed, full-time' in crosstab_edu.columns:\n",
    "        print(crosstab_edu['Employed, full-time'].sort_values(ascending=False).head())"
   ]
  },
  {
   "cell_type": "markdown",
   "id": "b09f2798-6b75-4f13-9b26-bda6884b8221",
   "metadata": {},
   "source": [
    "#### Step 10: Save the Cleaned and Analyzed Dataset\n"
   ]
  },
  {
   "cell_type": "markdown",
   "id": "c76112cf-d51b-446a-b755-d079d0f36706",
   "metadata": {},
   "source": [
    "After your analysis, save the modified dataset for further use or sharing.\n"
   ]
  },
  {
   "cell_type": "code",
   "execution_count": null,
   "id": "7756d0ed-e2a3-49f7-8ae6-6890cb626f1b",
   "metadata": {},
   "outputs": [],
   "source": [
    "## Write your code here\n",
    "\n",
    "# Step 10: Save the Cleaned and Analyzed Dataset\n",
    "\n",
    "# Save to CSV\n",
    "output_file = 'cleaned_analyzed_survey_data.csv'\n",
    "df.to_csv(output_file, index=False)\n",
    "\n",
    "print(f\"Dataset saved to: {output_file}\")\n",
    "print(f\"Total rows: {len(df)}\")\n",
    "print(f\"Total columns: {len(df.columns)}\")"
   ]
  },
  {
   "cell_type": "markdown",
   "id": "0d87dcdc-af49-4d0d-ac37-c7aaab8f6e89",
   "metadata": {},
   "source": [
    "<h2>Summary</h2>\n"
   ]
  },
  {
   "cell_type": "markdown",
   "id": "3f9a933c-01db-4f83-89c7-527190839119",
   "metadata": {},
   "source": [
    "In this revised lab, you:\n",
    "\n",
    "- Loaded and explored the structure of the dataset.\n",
    "\n",
    "- Handled missing data effectively.\n",
    "\n",
    "- Analyzed key variables, including working hours, job satisfaction, and remote work trends.\n",
    "\n",
    "- Investigated programming language usage by region and examined the relationship between experience and satisfaction.\n",
    "\n",
    "- Used cross-tabulation to understand educational background and employment type.\n"
   ]
  },
  {
   "cell_type": "markdown",
   "id": "fe9584c6-6abd-4b61-a379-9abe9c514755",
   "metadata": {},
   "source": [
    "Copyright © IBM Corporation. All rights reserved.\n"
   ]
  }
 ],
 "metadata": {
  "kernelspec": {
   "display_name": "Python 3 (ipykernel)",
   "language": "python",
   "name": "python3"
  },
  "language_info": {
   "codemirror_mode": {
    "name": "ipython",
    "version": 3
   },
   "file_extension": ".py",
   "mimetype": "text/x-python",
   "name": "python",
   "nbconvert_exporter": "python",
   "pygments_lexer": "ipython3",
   "version": "3.11.9"
  },
  "prev_pub_hash": "2a4f0935f8d3cf9549d9e18dbbd812b8dd5a034c94517c8adba13875f8268801"
 },
 "nbformat": 4,
 "nbformat_minor": 4
}
