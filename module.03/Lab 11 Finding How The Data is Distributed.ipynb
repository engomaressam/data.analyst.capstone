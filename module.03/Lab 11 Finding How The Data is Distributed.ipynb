{
 "cells": [
  {
   "cell_type": "markdown",
   "id": "a4bb1ec1-7fcf-40e0-9ef9-50095345ff33",
   "metadata": {},
   "source": [
    "<p style=\"text-align:center\">\n",
    "    <a href=\"https://skills.network\" target=\"_blank\">\n",
    "    <img src=\"https://cf-courses-data.s3.us.cloud-object-storage.appdomain.cloud/assets/logos/SN_web_lightmode.png\" width=\"200\" alt=\"Skills Network Logo\"  />\n",
    "    </a>\n",
    "</p>\n"
   ]
  },
  {
   "cell_type": "markdown",
   "id": "91791624-7d3e-4711-b7a5-4422067901c3",
   "metadata": {},
   "source": [
    "# **Finding How The Data Is Distributed**\n"
   ]
  },
  {
   "cell_type": "markdown",
   "id": "cf857ea3-edc5-457d-a43f-f33084470431",
   "metadata": {},
   "source": [
    "Estimated time needed: **30** minutes\n"
   ]
  },
  {
   "cell_type": "markdown",
   "id": "3a3b8bc4-47bb-47d5-aec2-43344298fbe6",
   "metadata": {},
   "source": [
    "In this lab, you will work with a cleaned dataset to perform Exploratory Data Analysis (EDA). You will examine the structure of the data, visualize key variables, and analyze trends related to developer experience, tools, job satisfaction, and other important aspects.\n"
   ]
  },
  {
   "cell_type": "markdown",
   "id": "9891ea87-d548-4351-8dda-52ed76ca0a04",
   "metadata": {},
   "source": [
    "## Objectives\n"
   ]
  },
  {
   "cell_type": "markdown",
   "id": "ec0b2970-e176-44da-9f41-cedae8c6f48c",
   "metadata": {},
   "source": [
    "In this lab you will perform the following:\n"
   ]
  },
  {
   "cell_type": "markdown",
   "id": "77b2cb25-6250-49b3-8662-8abefbe88102",
   "metadata": {},
   "source": [
    "- Understand the structure of the dataset.\n",
    "\n",
    "- Perform summary statistics and data visualization.\n",
    "\n",
    "- Identify trends in developer experience, tools, job satisfaction, and other key variables.\n"
   ]
  },
  {
   "cell_type": "markdown",
   "id": "05365474-1d2f-47e6-a82a-8ae37168a6e6",
   "metadata": {},
   "source": [
    "### Install the required libraries\n"
   ]
  },
  {
   "cell_type": "code",
   "execution_count": null,
   "id": "457f8080-3629-41d8-8c14-bd67db4bb7c5",
   "metadata": {},
   "outputs": [],
   "source": [
    "!pip install pandas\n",
    "!pip install matplotlib\n",
    "!pip install seaborn\n"
   ]
  },
  {
   "cell_type": "markdown",
   "id": "f8e4658f-ef44-4eab-90a6-ba0a56de1927",
   "metadata": {},
   "source": [
    "### Step 1: Import Libraries and Load Data\n"
   ]
  },
  {
   "cell_type": "markdown",
   "id": "de8a41af-a4eb-4195-97a0-aff2d2858b6b",
   "metadata": {},
   "source": [
    "- Import the `pandas`, `matplotlib.pyplot`, and `seaborn` libraries.\n"
   ]
  },
  {
   "cell_type": "markdown",
   "id": "9b821ec8-0438-4f09-b1c4-3e6d0ce88e23",
   "metadata": {},
   "source": [
    "- You will begin with loading the dataset. You can use the pyfetch method if working on JupyterLite. Otherwise, you can use pandas' read_csv() function directly on their local machines or cloud environments.\n"
   ]
  },
  {
   "cell_type": "code",
   "execution_count": null,
   "id": "d766d6cc-bfd0-4f36-ae01-391047856406",
   "metadata": {},
   "outputs": [],
   "source": [
    "# Import necessary libraries\n",
    "import pandas as pd\n",
    "import matplotlib.pyplot as plt\n",
    "import seaborn as sns\n",
    "\n",
    "# Load the Stack Overflow survey dataset\n",
    "data_url = 'https://cf-courses-data.s3.us.cloud-object-storage.appdomain.cloud/n01PQ9pSmiRX6520flujwQ/survey-data.csv'\n",
    "df = pd.read_csv(data_url)\n",
    "\n",
    "# Display the first few rows of the dataset\n",
    "df.head()\n"
   ]
  },
  {
   "cell_type": "markdown",
   "id": "33022f03-6167-45e1-a0d8-4cff0b259349",
   "metadata": {},
   "source": [
    "### Step 2: Examine the Structure of the Data\n"
   ]
  },
  {
   "cell_type": "markdown",
   "id": "dc80f61d-644c-47a0-917c-61a1486ed324",
   "metadata": {},
   "source": [
    "- Display the column names, data types, and summary information to understand the data structure.\n",
    "\n",
    "- Objective: Gain insights into the dataset's shape and available variables.\n"
   ]
  },
  {
   "cell_type": "code",
   "execution_count": null,
   "id": "1690c946-2464-43bd-90d2-ef84f59d6b94",
   "metadata": {},
   "outputs": [],
   "source": [
    "## Write your code here\n",
    "\n",
    "# Step 2: Examine the Structure of the Data\n",
    "\n",
    "print(\"Dataset Structure:\")\n",
    "print(\"=\" * 60)\n",
    "print(f\"Shape: {df.shape}\")\n",
    "print(f\"\\nColumn Names and Data Types:\")\n",
    "print(df.dtypes)\n",
    "\n",
    "print(\"\\n\" + \"=\" * 60)\n",
    "print(\"Dataset Info:\")\n",
    "df.info()\n",
    "\n",
    "print(\"\\n\" + \"=\" * 60)\n",
    "print(\"First few rows:\")\n",
    "df.head()"
   ]
  },
  {
   "cell_type": "markdown",
   "id": "42a43355-828c-4a69-b64f-2825a0ff825d",
   "metadata": {},
   "source": [
    "### Step 3: Handle Missing Data\n"
   ]
  },
  {
   "cell_type": "markdown",
   "id": "14ac2c5a-4e17-41b6-af66-93588957ce6b",
   "metadata": {},
   "source": [
    "- Identify missing values in the dataset.\n",
    "\n",
    "- Impute or remove missing values as necessary to ensure data completeness.\n",
    "\n"
   ]
  },
  {
   "cell_type": "code",
   "execution_count": null,
   "id": "f98036e8-19a3-415b-91ff-0cb5acf362de",
   "metadata": {},
   "outputs": [],
   "source": [
    "## Write your code here\n",
    "\n",
    "# Step 3: Handle Missing Data\n",
    "\n",
    "# Identify missing values\n",
    "print(\"Missing values in dataset:\")\n",
    "missing_data = df.isnull().sum()\n",
    "print(missing_data[missing_data > 0].sort_values(ascending=False).head(10))\n",
    "\n",
    "# Handle missing values in key columns\n",
    "if 'ConvertedCompYearly' in df.columns:\n",
    "    median_comp = df['ConvertedCompYearly'].median()\n",
    "    df['ConvertedCompYearly'].fillna(median_comp, inplace=True)\n",
    "    print(f\"\\nFilled ConvertedCompYearly with median: ${median_comp:,.2f}\")\n",
    "\n",
    "if 'YearsCodePro' in df.columns:\n",
    "    median_years = df['YearsCodePro'].median()\n",
    "    df['YearsCodePro'].fillna(median_years, inplace=True)\n",
    "    print(f\"Filled YearsCodePro with median: {median_years}\")"
   ]
  },
  {
   "cell_type": "markdown",
   "id": "52af3e5f-200a-40c0-b55e-eea1eaf6fbb0",
   "metadata": {},
   "source": [
    "### Step 4: Analyze Key Columns\n"
   ]
  },
  {
   "cell_type": "markdown",
   "id": "2156cdb8-6368-454d-a2ea-d5568fbdcc32",
   "metadata": {},
   "source": [
    "- Examine key columns such as `Employment`, `JobSat` (Job Satisfaction), and `YearsCodePro` (Professional Coding Experience).\n",
    "\n",
    "- **Instruction**: Calculate the value counts for each column to understand the distribution of responses.\n",
    "\n"
   ]
  },
  {
   "cell_type": "code",
   "execution_count": null,
   "id": "5b08821e-3511-4312-a260-7334f406e9ae",
   "metadata": {},
   "outputs": [],
   "source": [
    "## Write your code here\n",
    "\n",
    "# Step 4: Analyze Key Columns\n",
    "\n",
    "# Employment distribution\n",
    "if 'Employment' in df.columns:\n",
    "    print(\"Employment Status Distribution:\")\n",
    "    print(df['Employment'].value_counts())\n",
    "    print()\n",
    "\n",
    "# JobSat distribution\n",
    "if 'JobSat' in df.columns:\n",
    "    print(\"Job Satisfaction Distribution:\")\n",
    "    print(df['JobSat'].value_counts())\n",
    "    print()\n",
    "\n",
    "# YearsCodePro distribution\n",
    "if 'YearsCodePro' in df.columns:\n",
    "    print(\"Years of Professional Coding Experience - Summary:\")\n",
    "    print(df['YearsCodePro'].describe())"
   ]
  },
  {
   "cell_type": "markdown",
   "id": "14e14f76-fd56-456b-b240-6f8b216b3f94",
   "metadata": {},
   "source": [
    "### Step 5: Visualize Job Satisfaction (Focus on JobSat)\n"
   ]
  },
  {
   "cell_type": "markdown",
   "id": "ba93380b-3ced-45a2-87f2-062126341ef1",
   "metadata": {},
   "source": [
    "- Create a pie chart or KDE plot to visualize the distribution of `JobSat`.\n",
    "\n",
    "- Provide an interpretation of the plot, highlighting key trends in job satisfaction.\n"
   ]
  },
  {
   "cell_type": "code",
   "execution_count": null,
   "id": "99a7526d-47e2-45d2-8336-46db95988e98",
   "metadata": {},
   "outputs": [],
   "source": [
    "## Write your code here\n",
    "\n",
    "# Step 5: Visualize Job Satisfaction\n",
    "\n",
    "if 'JobSat' in df.columns:\n",
    "    fig, axes = plt.subplots(1, 2, figsize=(14, 5))\n",
    "    \n",
    "    # Pie chart\n",
    "    jobsat_counts = df['JobSat'].value_counts()\n",
    "    axes[0].pie(jobsat_counts.values, labels=jobsat_counts.index, autopct='%1.1f%%', startangle=90)\n",
    "    axes[0].set_title('Job Satisfaction Distribution (Pie Chart)')\n",
    "    \n",
    "    # KDE plot (if numeric)\n",
    "    try:\n",
    "        df['JobSat'].astype(float).plot(kind='kde', ax=axes[1], color='blue', linewidth=2)\n",
    "        axes[1].set_title('Job Satisfaction Distribution (KDE)')\n",
    "        axes[1].set_xlabel('Job Satisfaction')\n",
    "        axes[1].set_ylabel('Density')\n",
    "        axes[1].grid(True, alpha=0.3)\n",
    "    except:\n",
    "        # If not numeric, use histogram\n",
    "        jobsat_counts.plot(kind='bar', ax=axes[1], color='skyblue', edgecolor='black')\n",
    "        axes[1].set_title('Job Satisfaction Distribution (Bar Chart)')\n",
    "        axes[1].set_xlabel('Job Satisfaction')\n",
    "        axes[1].set_ylabel('Count')\n",
    "        axes[1].tick_params(axis='x', rotation=45)\n",
    "    \n",
    "    plt.tight_layout()\n",
    "    plt.show()\n",
    "    \n",
    "    print(\"\\nKey Insight: Job satisfaction shows the distribution of respondent satisfaction levels.\")"
   ]
  },
  {
   "cell_type": "markdown",
   "id": "80ac762c-e73f-469b-a29c-b9a131fae356",
   "metadata": {},
   "source": [
    "### Step 6: Programming Languages Analysis\n"
   ]
  },
  {
   "cell_type": "markdown",
   "id": "4b0fd0ce-f6d0-4994-ad61-3b15abb2e772",
   "metadata": {},
   "source": [
    "- Compare the frequency of programming languages in `LanguageHaveWorkedWith` and `LanguageWantToWorkWith`.\n",
    "  \n",
    "- Visualize the overlap or differences using a Venn diagram or a grouped bar chart.\n"
   ]
  },
  {
   "cell_type": "code",
   "execution_count": null,
   "id": "f51cbe60-a744-4dc9-a09b-0bc5ca6c3fc3",
   "metadata": {},
   "outputs": [],
   "source": [
    "## Write your code here\n",
    "\n",
    "# Step 6: Programming Languages Analysis\n",
    "\n",
    "if 'LanguageHaveWorkedWith' in df.columns and 'LanguageWantToWorkWith' in df.columns:\n",
    "    # Parse languages from semicolon-separated strings\n",
    "    from collections import Counter\n",
    "    \n",
    "    have_worked = []\n",
    "    want_to_work = []\n",
    "    \n",
    "    for langs in df['LanguageHaveWorkedWith'].dropna():\n",
    "        if isinstance(langs, str):\n",
    "            have_worked.extend([lang.strip() for lang in langs.split(';')])\n",
    "    \n",
    "    for langs in df['LanguageWantToWorkWith'].dropna():\n",
    "        if isinstance(langs, str):\n",
    "            want_to_work.extend([lang.strip() for lang in langs.split(';')])\n",
    "    \n",
    "    have_counts = Counter(have_worked)\n",
    "    want_counts = Counter(want_to_work)\n",
    "    \n",
    "    # Get top 10 languages\n",
    "    top_have = dict(have_counts.most_common(10))\n",
    "    top_want = dict(want_counts.most_common(10))\n",
    "    \n",
    "    # Create grouped bar chart\n",
    "    languages = list(set(list(top_have.keys()) + list(top_want.keys())))[:10]\n",
    "    have_values = [have_counts.get(lang, 0) for lang in languages]\n",
    "    want_values = [want_counts.get(lang, 0) for lang in languages]\n",
    "    \n",
    "    x = range(len(languages))\n",
    "    width = 0.35\n",
    "    \n",
    "    fig, ax = plt.subplots(figsize=(14, 6))\n",
    "    ax.bar([i - width/2 for i in x], have_values, width, label='Have Worked With', color='steelblue')\n",
    "    ax.bar([i + width/2 for i in x], want_values, width, label='Want To Work With', color='orange')\n",
    "    \n",
    "    ax.set_xlabel('Programming Languages')\n",
    "    ax.set_ylabel('Frequency')\n",
    "    ax.set_title('Programming Languages: Have Worked With vs Want To Work With')\n",
    "    ax.set_xticks(x)\n",
    "    ax.set_xticklabels(languages, rotation=45, ha='right')\n",
    "    ax.legend()\n",
    "    ax.grid(True, alpha=0.3, axis='y')\n",
    "    \n",
    "    plt.tight_layout()\n",
    "    plt.show()\n",
    "    \n",
    "    print(\"\\nTop 5 Languages Have Worked With:\")\n",
    "    for i, (lang, count) in enumerate(have_counts.most_common(5), 1):\n",
    "        print(f\"{i}. {lang}: {count}\")\n",
    "    \n",
    "    print(\"\\nTop 5 Languages Want To Work With:\")\n",
    "    for i, (lang, count) in enumerate(want_counts.most_common(5), 1):\n",
    "        print(f\"{i}. {lang}: {count}\")"
   ]
  },
  {
   "cell_type": "markdown",
   "id": "96d4a673-d784-437b-8145-4bc8c98c29f2",
   "metadata": {},
   "source": [
    "### Step 7: Analyze Remote Work Trends\n"
   ]
  },
  {
   "cell_type": "markdown",
   "id": "fb765a14-5d10-4018-bd97-5244499d984d",
   "metadata": {},
   "source": [
    "- Visualize the distribution of RemoteWork by region using a grouped bar chart or heatmap.\n"
   ]
  },
  {
   "cell_type": "code",
   "execution_count": null,
   "id": "8e62793b-0982-4d16-a151-18d0e05a93e1",
   "metadata": {},
   "outputs": [],
   "source": [
    "## Write your code here\n",
    "\n",
    "# Step 7: Analyze Remote Work Trends\n",
    "\n",
    "if 'RemoteWork' in df.columns and 'Country' in df.columns:\n",
    "    # Get top 10 countries\n",
    "    top_countries = df['Country'].value_counts().head(10).index\n",
    "    \n",
    "    # Filter for top countries\n",
    "    df_top = df[df['Country'].isin(top_countries)]\n",
    "    \n",
    "    # Create crosstab\n",
    "    remote_by_country = pd.crosstab(df_top['Country'], df_top['RemoteWork'])\n",
    "    \n",
    "    # Create grouped bar chart\n",
    "    remote_by_country.plot(kind='bar', figsize=(14, 6), colormap='Set3')\n",
    "    plt.title('Remote Work Distribution by Top 10 Countries')\n",
    "    plt.xlabel('Country')\n",
    "    plt.ylabel('Count')\n",
    "    plt.legend(title='Remote Work Status', bbox_to_anchor=(1.05, 1))\n",
    "    plt.xticks(rotation=45, ha='right')\n",
    "    plt.tight_layout()\n",
    "    plt.show()\n",
    "    \n",
    "    print(\"\\nRemote Work Distribution by Country:\")\n",
    "    print(remote_by_country)"
   ]
  },
  {
   "cell_type": "markdown",
   "id": "e18b5e89-f7d6-4ac6-bf6c-e5317d7e523f",
   "metadata": {},
   "source": [
    "### Step 8: Correlation between Job Satisfaction and Experience\n"
   ]
  },
  {
   "cell_type": "markdown",
   "id": "10c71589-0b90-45f9-8c24-1a91a35adad4",
   "metadata": {},
   "source": [
    "- Analyze the correlation between overall job satisfaction (`JobSat`) and `YearsCodePro`.\n",
    "  \n",
    "- Calculate the Pearson or Spearman correlation coefficient.\n"
   ]
  },
  {
   "cell_type": "code",
   "execution_count": null,
   "id": "08fd52c4-c87c-497d-8048-46361240e57e",
   "metadata": {},
   "outputs": [],
   "source": [
    "## Write your code here\n",
    "\n",
    "# Step 8: Correlation between Job Satisfaction and Experience\n",
    "\n",
    "if 'JobSat' in df.columns and 'YearsCodePro' in df.columns:\n",
    "    # Try to convert to numeric\n",
    "    try:\n",
    "        df['JobSat_numeric'] = pd.to_numeric(df['JobSat'], errors='coerce')\n",
    "        df['YearsCodePro_numeric'] = pd.to_numeric(df['YearsCodePro'], errors='coerce')\n",
    "        \n",
    "        # Drop NaN values\n",
    "        df_corr = df[['JobSat_numeric', 'YearsCodePro_numeric']].dropna()\n",
    "        \n",
    "        # Calculate correlation\n",
    "        pearson_corr = df_corr['JobSat_numeric'].corr(df_corr['YearsCodePro_numeric'], method='pearson')\n",
    "        spearman_corr = df_corr['JobSat_numeric'].corr(df_corr['YearsCodePro_numeric'], method='spearman')\n",
    "        \n",
    "        print(\"Correlation Analysis: Job Satisfaction vs Years of Experience\")\n",
    "        print(f\"Pearson correlation: {pearson_corr:.4f}\")\n",
    "        print(f\"Spearman correlation: {spearman_corr:.4f}\")\n",
    "        \n",
    "        if abs(pearson_corr) < 0.3:\n",
    "            print(\"Interpretation: Weak correlation\")\n",
    "        elif abs(pearson_corr) < 0.7:\n",
    "            print(\"Interpretation: Moderate correlation\")\n",
    "        else:\n",
    "            print(\"Interpretation: Strong correlation\")\n",
    "    except Exception as e:\n",
    "        print(f\"Could not calculate numeric correlation: {e}\")"
   ]
  },
  {
   "cell_type": "markdown",
   "id": "667bc348-3af3-4260-8304-636f5cba3f3a",
   "metadata": {},
   "source": [
    "### Step 9: Cross-tabulation Analysis (Employment vs. Education Level)\n"
   ]
  },
  {
   "cell_type": "markdown",
   "id": "46fbc1d0-7954-4e3b-8587-ef56c9980481",
   "metadata": {},
   "source": [
    "- Analyze the relationship between employment status (`Employment`) and education level (`EdLevel`).\n",
    "\n",
    "- **Instruction**: Create a cross-tabulation using `pd.crosstab()` and visualize it with a stacked bar plot if possible.\n"
   ]
  },
  {
   "cell_type": "code",
   "execution_count": null,
   "id": "f6a8c598-0255-4b0c-b321-fd584f216eb1",
   "metadata": {},
   "outputs": [],
   "source": [
    "## Write your code here\n",
    "\n",
    "# Step 9: Cross-tabulation Analysis (Employment vs Education Level)\n",
    "\n",
    "if 'Employment' in df.columns and 'EdLevel' in df.columns:\n",
    "    # Create cross-tabulation\n",
    "    crosstab_emp_ed = pd.crosstab(df['Employment'], df['EdLevel'])\n",
    "    \n",
    "    print(\"Cross-tabulation: Employment vs Education Level\")\n",
    "    print(crosstab_emp_ed)\n",
    "    \n",
    "    # Visualize with stacked bar plot\n",
    "    crosstab_emp_ed.plot(kind='bar', stacked=True, figsize=(14, 7), colormap='tab20')\n",
    "    plt.title('Employment Status by Education Level')\n",
    "    plt.xlabel('Employment Status')\n",
    "    plt.ylabel('Count')\n",
    "    plt.legend(title='Education Level', bbox_to_anchor=(1.05, 1), loc='upper left')\n",
    "    plt.xticks(rotation=45, ha='right')\n",
    "    plt.tight_layout()\n",
    "    plt.show()"
   ]
  },
  {
   "cell_type": "markdown",
   "id": "8c7af7a4-2289-4da5-9d83-90b117682c00",
   "metadata": {},
   "source": [
    "### Step 10: Export Cleaned Data\n"
   ]
  },
  {
   "cell_type": "markdown",
   "id": "2fc6a832-dd1d-434a-9157-00d9edc5bd93",
   "metadata": {},
   "source": [
    "- Save the cleaned dataset to a new CSV file for further use or sharing.\n"
   ]
  },
  {
   "cell_type": "code",
   "execution_count": null,
   "id": "c271d03f-bde1-4895-99b7-02e4445636eb",
   "metadata": {},
   "outputs": [],
   "source": [
    "## Write your code here\n",
    "\n",
    "# Step 10: Export Cleaned Data\n",
    "\n",
    "output_file = 'cleaned_survey_data_distributed.csv'\n",
    "df.to_csv(output_file, index=False)\n",
    "\n",
    "print(f\"Cleaned dataset saved to: {output_file}\")\n",
    "print(f\"Total rows: {len(df)}\")\n",
    "print(f\"Total columns: {len(df.columns)}\")"
   ]
  },
  {
   "cell_type": "markdown",
   "id": "235ee8dd-edb1-4fa8-889a-df573c323be7",
   "metadata": {},
   "source": [
    "### Summary:\n"
   ]
  },
  {
   "cell_type": "markdown",
   "id": "fd71e05c-b664-4fc8-8cce-b69bfdb7d076",
   "metadata": {},
   "source": [
    "In this lab, you practiced key skills in exploratory data analysis, including:\n"
   ]
  },
  {
   "cell_type": "markdown",
   "id": "8b85030c-be9e-465e-8096-49343d0af099",
   "metadata": {},
   "source": [
    "- Examining the structure and content of the Stack Overflow survey dataset to understand its variables and data types.\n",
    "\n",
    "- Identifying and addressing missing data to ensure the dataset's quality and completeness.\n",
    "\n",
    "- Summarizing and visualizing key variables such as job satisfaction, programming languages, and remote work trends.\n",
    "\n",
    "- Analyzing relationships in the data using techniques like:\n",
    "    - Comparing programming languages respondents have worked with versus those they want to work with.\n",
    "      \n",
    "    - Exploring remote work preferences by region.\n",
    "\n",
    "- Investigating correlations between professional coding experience and job satisfaction.\n",
    "\n",
    "- Performing cross-tabulations to analyze relationships between employment status and education levels.\n"
   ]
  },
  {
   "cell_type": "markdown",
   "id": "3b66ebba-a907-43e0-94c9-bb211060681d",
   "metadata": {},
   "source": [
    "## Authors:\n",
    "Ayushi Jain\n"
   ]
  },
  {
   "cell_type": "markdown",
   "id": "f980ca44-bfef-42b1-a3fa-b3d13ffa1f12",
   "metadata": {},
   "source": [
    "### Other Contributors:\n",
    "Rav Ahuja\n",
    "Lakshmi Holla\n",
    "Malika\n"
   ]
  },
  {
   "cell_type": "markdown",
   "id": "8eaf56b8-9de2-4a84-8de7-9473998cc36f",
   "metadata": {},
   "source": [
    "Copyright © IBM Corporation. All rights reserved.\n"
   ]
  }
 ],
 "metadata": {
  "kernelspec": {
   "display_name": "Python 3 (ipykernel)",
   "language": "python",
   "name": "python3"
  },
  "language_info": {
   "codemirror_mode": {
    "name": "ipython",
    "version": 3
   },
   "file_extension": ".py",
   "mimetype": "text/x-python",
   "name": "python",
   "nbconvert_exporter": "python",
   "pygments_lexer": "ipython3",
   "version": "3.11.9"
  },
  "prev_pub_hash": "1d85068db2e9321c0f82f53364642bad437fc727f27ebcc94dcddab25e9a8289"
 },
 "nbformat": 4,
 "nbformat_minor": 4
}
