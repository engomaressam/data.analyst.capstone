{
 "cells": [
  {
   "cell_type": "markdown",
   "id": "c9d7a3c5-4078-415e-896c-f01eb0a5d448",
   "metadata": {},
   "source": [
    "<p style=\"text-align:center\">\n",
    "    <a href=\"https://skills.network\" target=\"_blank\">\n",
    "    <img src=\"https://cf-courses-data.s3.us.cloud-object-storage.appdomain.cloud/assets/logos/SN_web_lightmode.png\" width=\"200\" alt=\"Skills Network Logo\"  />\n",
    "    </a>\n",
    "</p>\n"
   ]
  },
  {
   "cell_type": "markdown",
   "id": "6ed57a31-fcd1-48e9-99b1-3cd5e628b060",
   "metadata": {},
   "source": [
    "# **Finding Outliers**\n"
   ]
  },
  {
   "cell_type": "markdown",
   "id": "048cc4a5-f44a-4db6-819d-69f645e98ec0",
   "metadata": {},
   "source": [
    "Estimated time needed: **30** minutes\n"
   ]
  },
  {
   "cell_type": "markdown",
   "id": "5f4bce34-fe79-456a-b56a-b3dceb6e8b3f",
   "metadata": {},
   "source": [
    "In this lab, you will work with a cleaned dataset to perform exploratory data analysis or EDA. \n",
    "You will explore the distribution of key variables and focus on identifying outliers in this lab.\n"
   ]
  },
  {
   "cell_type": "markdown",
   "id": "81ed08ed-e382-4253-906b-3d09d00fbe09",
   "metadata": {},
   "source": [
    "## Objectives\n"
   ]
  },
  {
   "cell_type": "markdown",
   "id": "50ac3c08-f20a-4495-b4fe-2103867fb591",
   "metadata": {},
   "source": [
    "In this lab, you will perform the following:\n"
   ]
  },
  {
   "cell_type": "markdown",
   "id": "8474852c-c5a8-4d47-b749-245e3ffe31f5",
   "metadata": {},
   "source": [
    "-  Analyze the distribution of key variables in the dataset.\n",
    "\n",
    "-  Identify and remove outliers using statistical methods.\n",
    "\n",
    "-  Perform relevant statistical and correlation analysis.\n"
   ]
  },
  {
   "cell_type": "markdown",
   "id": "c3067397-2604-4c2d-b4c0-8e70ff706104",
   "metadata": {},
   "source": [
    "#### Install and import the required libraries\n"
   ]
  },
  {
   "cell_type": "code",
   "execution_count": null,
   "id": "777e2d56-5d29-412b-b654-5b5e497a81e5",
   "metadata": {},
   "outputs": [],
   "source": [
    "!pip install pandas\n",
    "!pip install matplotlib\n",
    "!pip install seaborn\n",
    "\n",
    "import pandas as pd\n",
    "import matplotlib.pyplot as plt\n",
    "import seaborn as sns"
   ]
  },
  {
   "cell_type": "markdown",
   "id": "87b836f2-b42c-45b0-a10d-8bdec3b2d173",
   "metadata": {},
   "source": [
    "<h3>Step 1: Load and Explore the Dataset</h3>\n"
   ]
  },
  {
   "cell_type": "markdown",
   "id": "789fb6a5-bc53-4991-b679-61bd99a534fc",
   "metadata": {},
   "source": [
    "Load the dataset into a DataFrame and examine the structure of the data.\n"
   ]
  },
  {
   "cell_type": "code",
   "execution_count": null,
   "id": "24f3406c-48c7-4776-969c-1bcac591816d",
   "metadata": {},
   "outputs": [],
   "source": [
    "file_url = \"https://cf-courses-data.s3.us.cloud-object-storage.appdomain.cloud/n01PQ9pSmiRX6520flujwQ/survey-data.csv\"\n",
    "\n",
    "#Create the dataframe\n",
    "df = pd.read_csv(file_url)\n",
    "\n",
    "#Display the top 10 records\n",
    "df.head()\n"
   ]
  },
  {
   "cell_type": "markdown",
   "id": "5e841c9d-2f20-4c15-a85b-8db0ce788eca",
   "metadata": {},
   "source": [
    "<h3>Step 2: Plot the Distribution of Industry</h3>\n"
   ]
  },
  {
   "cell_type": "markdown",
   "id": "1fd0441f-ea23-479a-a3dd-fcd9295539cf",
   "metadata": {},
   "source": [
    "Explore how respondents are distributed across different industries.\n",
    "\n",
    "- Plot a bar chart to visualize the distribution of respondents by industry.\n",
    "\n",
    "- Highlight any notable trends.\n"
   ]
  },
  {
   "cell_type": "code",
   "execution_count": null,
   "id": "ac4b3a57-a3d0-495c-bf6f-3dfd5b983cbc",
   "metadata": {},
   "outputs": [],
   "source": [
    "##Write your code here\n",
    "\n",
    "# Step 2: Plot the Distribution of Industry\n",
    "\n",
    "if 'Industry' in df.columns:\n",
    "    plt.figure(figsize=(14, 6))\n",
    "    \n",
    "    industry_counts = df['Industry'].value_counts().head(15)\n",
    "    industry_counts.plot(kind='bar', color='steelblue', edgecolor='black')\n",
    "    plt.title('Distribution of Respondents by Industry (Top 15)')\n",
    "    plt.xlabel('Industry')\n",
    "    plt.ylabel('Count')\n",
    "    plt.xticks(rotation=45, ha='right')\n",
    "    plt.tight_layout()\n",
    "    plt.show()\n",
    "    \n",
    "    print(\"Top 10 Industries:\")\n",
    "    print(df['Industry'].value_counts().head(10))\n",
    "else:\n",
    "    print(\"Industry column not found in dataset\")"
   ]
  },
  {
   "cell_type": "markdown",
   "id": "8576c7c7-12b1-4a15-a9d4-5118299238a7",
   "metadata": {},
   "source": [
    "<h3>Step 3: Identify High Compensation Outliers</h3>\n"
   ]
  },
  {
   "cell_type": "markdown",
   "id": "a314f5ad-bf29-4a61-92fd-4c5e3dff8578",
   "metadata": {},
   "source": [
    "Identify respondents with extremely high yearly compensation.\n",
    "\n",
    "- Calculate basic statistics (mean, median, and standard deviation) for `ConvertedCompYearly`.\n",
    "\n",
    "- Identify compensation values exceeding a defined threshold (e.g., 3 standard deviations above the mean).\n"
   ]
  },
  {
   "cell_type": "code",
   "execution_count": null,
   "id": "7ddecc37-62b4-431f-906d-9e0f9d85b7bf",
   "metadata": {},
   "outputs": [],
   "source": [
    "##Write your code here\n",
    "\n",
    "# Step 3: Identify High Compensation Outliers\n",
    "\n",
    "if 'ConvertedCompYearly' in df.columns:\n",
    "    # Calculate statistics\n",
    "    mean_comp = df['ConvertedCompYearly'].mean()\n",
    "    median_comp = df['ConvertedCompYearly'].median()\n",
    "    std_comp = df['ConvertedCompYearly'].std()\n",
    "    \n",
    "    print(\"ConvertedCompYearly Statistics:\")\n",
    "    print(f\"Mean: ${mean_comp:,.2f}\")\n",
    "    print(f\"Median: ${median_comp:,.2f}\")\n",
    "    print(f\"Standard Deviation: ${std_comp:,.2f}\")\n",
    "    \n",
    "    # Identify outliers (3 standard deviations above mean)\n",
    "    threshold = mean_comp + (3 * std_comp)\n",
    "    outliers = df[df['ConvertedCompYearly'] > threshold]\n",
    "    \n",
    "    print(f\"\\nThreshold (mean + 3*std): ${threshold:,.2f}\")\n",
    "    print(f\"Number of outliers: {len(outliers)}\")\n",
    "    print(f\"Percentage of outliers: {(len(outliers)/len(df)*100):.2f}%\")\n",
    "    \n",
    "    if len(outliers) > 0:\n",
    "        print(f\"\\nTop 5 highest compensations:\")\n",
    "        print(df['ConvertedCompYearly'].nlargest(5))\n",
    "else:\n",
    "    print(\"ConvertedCompYearly column not found\")"
   ]
  },
  {
   "cell_type": "markdown",
   "id": "16ed51a2-f59b-4ce0-9e79-8bc25c9c785d",
   "metadata": {},
   "source": [
    "<h3>Step 4: Detect Outliers in Compensation</h3>\n"
   ]
  },
  {
   "cell_type": "markdown",
   "id": "473e1a28-0cab-4582-87c3-334ff8e7cd74",
   "metadata": {},
   "source": [
    "Identify outliers in the `ConvertedCompYearly` column using the IQR method.\n",
    "\n",
    "- Calculate the Interquartile Range (IQR).\n",
    "\n",
    "- Determine the upper and lower bounds for outliers.\n",
    "\n",
    "- Count and visualize outliers using a box plot.\n"
   ]
  },
  {
   "cell_type": "code",
   "execution_count": null,
   "id": "aee14da9-2ac9-4ce4-ac56-da7e152b4c7c",
   "metadata": {},
   "outputs": [],
   "source": [
    "##Write your code here\n",
    "\n",
    "# Step 4: Detect Outliers in Compensation using IQR method\n",
    "\n",
    "if 'ConvertedCompYearly' in df.columns:\n",
    "    # Calculate IQR\n",
    "    Q1 = df['ConvertedCompYearly'].quantile(0.25)\n",
    "    Q3 = df['ConvertedCompYearly'].quantile(0.75)\n",
    "    IQR = Q3 - Q1\n",
    "    \n",
    "    # Calculate bounds\n",
    "    lower_bound = Q1 - 1.5 * IQR\n",
    "    upper_bound = Q3 + 1.5 * IQR\n",
    "    \n",
    "    print(\"IQR Method for Outlier Detection:\")\n",
    "    print(f\"Q1 (25th percentile): ${Q1:,.2f}\")\n",
    "    print(f\"Q3 (75th percentile): ${Q3:,.2f}\")\n",
    "    print(f\"IQR: ${IQR:,.2f}\")\n",
    "    print(f\"Lower Bound: ${lower_bound:,.2f}\")\n",
    "    print(f\"Upper Bound: ${upper_bound:,.2f}\")\n",
    "    \n",
    "    # Count outliers\n",
    "    outliers_low = df[df['ConvertedCompYearly'] < lower_bound]\n",
    "    outliers_high = df[df['ConvertedCompYearly'] > upper_bound]\n",
    "    \n",
    "    print(f\"\\nOutliers below lower bound: {len(outliers_low)}\")\n",
    "    print(f\"Outliers above upper bound: {len(outliers_high)}\")\n",
    "    print(f\"Total outliers: {len(outliers_low) + len(outliers_high)}\")\n",
    "    \n",
    "    # Box plot visualization\n",
    "    plt.figure(figsize=(10, 6))\n",
    "    plt.boxplot(df['ConvertedCompYearly'].dropna(), vert=True)\n",
    "    plt.title('Box Plot: ConvertedCompYearly (Outlier Detection)')\n",
    "    plt.ylabel('Annual Compensation ($)')\n",
    "    plt.grid(True, alpha=0.3)\n",
    "    plt.tight_layout()\n",
    "    plt.show()\n",
    "else:\n",
    "    print(\"ConvertedCompYearly column not found\")"
   ]
  },
  {
   "cell_type": "markdown",
   "id": "05f5a110-2fa5-406d-88f3-a55a95a80cd8",
   "metadata": {},
   "source": [
    "<h3>Step 5: Remove Outliers and Create a New DataFrame</h3>\n"
   ]
  },
  {
   "cell_type": "markdown",
   "id": "3c8b6b4e-7cad-4e7c-ab24-791da8c9cbc4",
   "metadata": {},
   "source": [
    "Remove outliers from the dataset.\n",
    "\n",
    "- Create a new DataFrame excluding rows with outliers in `ConvertedCompYearly`.\n",
    "- Validate the size of the new DataFrame.\n"
   ]
  },
  {
   "cell_type": "code",
   "execution_count": null,
   "id": "13d2c6c9-45f3-450c-9cb0-adf97c6e4947",
   "metadata": {},
   "outputs": [],
   "source": [
    "##Write your code here\n",
    "\n",
    "# Step 5: Remove Outliers and Create a New DataFrame\n",
    "\n",
    "if 'ConvertedCompYearly' in df.columns:\n",
    "    # Calculate IQR bounds\n",
    "    Q1 = df['ConvertedCompYearly'].quantile(0.25)\n",
    "    Q3 = df['ConvertedCompYearly'].quantile(0.75)\n",
    "    IQR = Q3 - Q1\n",
    "    lower_bound = Q1 - 1.5 * IQR\n",
    "    upper_bound = Q3 + 1.5 * IQR\n",
    "    \n",
    "    # Remove outliers\n",
    "    df_no_outliers = df[(df['ConvertedCompYearly'] >= lower_bound) & \n",
    "                        (df['ConvertedCompYearly'] <= upper_bound)]\n",
    "    \n",
    "    print(\"Outlier Removal Results:\")\n",
    "    print(f\"Original dataset size: {len(df)}\")\n",
    "    print(f\"New dataset size: {len(df_no_outliers)}\")\n",
    "    print(f\"Rows removed: {len(df) - len(df_no_outliers)}\")\n",
    "    print(f\"Percentage removed: {((len(df) - len(df_no_outliers))/len(df)*100):.2f}%\")\n",
    "    \n",
    "    print(f\"\\nNew compensation statistics:\")\n",
    "    print(f\"Mean: ${df_no_outliers['ConvertedCompYearly'].mean():,.2f}\")\n",
    "    print(f\"Median: ${df_no_outliers['ConvertedCompYearly'].median():,.2f}\")\n",
    "    print(f\"Std Dev: ${df_no_outliers['ConvertedCompYearly'].std():,.2f}\")\n",
    "else:\n",
    "    df_no_outliers = df.copy()\n",
    "    print(\"ConvertedCompYearly column not found, no outliers removed\")"
   ]
  },
  {
   "cell_type": "markdown",
   "id": "a27b833b-8441-4d09-ac88-2a805667d44c",
   "metadata": {},
   "source": [
    "<h3>Step 6: Correlation Analysis</h3>\n"
   ]
  },
  {
   "cell_type": "markdown",
   "id": "ace2e536-b4dd-4d67-a28c-8a1c0b88ebb1",
   "metadata": {},
   "source": [
    "Analyze the correlation between `Age` (transformed) and other numerical columns.\n",
    "\n",
    "- Map the `Age` column to approximate numeric values.\n",
    "\n",
    "- Compute correlations between `Age` and other numeric variables.\n",
    "\n",
    "- Visualize the correlation matrix.\n"
   ]
  },
  {
   "cell_type": "code",
   "execution_count": null,
   "id": "1304950f-88cf-46b4-b8bb-9624dd11c612",
   "metadata": {},
   "outputs": [],
   "source": [
    "##Write your code here\n",
    "\n",
    "# Step 6: Correlation Analysis\n",
    "\n",
    "if 'Age' in df_no_outliers.columns:\n",
    "    # Map Age column to numeric values\n",
    "    age_mapping = {\n",
    "        'Under 18 years old': 16,\n",
    "        '18-24 years old': 21,\n",
    "        '25-34 years old': 29.5,\n",
    "        '35-44 years old': 39.5,\n",
    "        '45-54 years old': 49.5,\n",
    "        '55-64 years old': 59.5,\n",
    "        '65 years or older': 70,\n",
    "        'Prefer not to say': None\n",
    "    }\n",
    "    \n",
    "    df_no_outliers['Age_numeric'] = df_no_outliers['Age'].map(age_mapping)\n",
    "    \n",
    "    # Select numerical columns for correlation\n",
    "    numeric_cols = df_no_outliers.select_dtypes(include=['number']).columns\n",
    "    \n",
    "    # Calculate correlations with Age\n",
    "    print(\"Correlation Analysis: Age vs Other Numerical Columns\")\n",
    "    print(\"=\" * 60)\n",
    "    \n",
    "    age_correlations = df_no_outliers[numeric_cols].corr()['Age_numeric'].sort_values(ascending=False)\n",
    "    print(age_correlations.dropna())\n",
    "    \n",
    "    # Visualize correlation matrix\n",
    "    plt.figure(figsize=(12, 10))\n",
    "    \n",
    "    # Select key columns for correlation matrix\n",
    "    key_cols = ['Age_numeric']\n",
    "    if 'ConvertedCompYearly' in numeric_cols:\n",
    "        key_cols.append('ConvertedCompYearly')\n",
    "    if 'YearsCodePro' in numeric_cols:\n",
    "        key_cols.append('YearsCodePro')\n",
    "    if 'WorkExp' in numeric_cols:\n",
    "        key_cols.append('WorkExp')\n",
    "    \n",
    "    corr_matrix = df_no_outliers[key_cols].corr()\n",
    "    \n",
    "    sns.heatmap(corr_matrix, annot=True, cmap='coolwarm', center=0, \n",
    "                square=True, linewidths=1, cbar_kws={\"shrink\": 0.8})\n",
    "    plt.title('Correlation Matrix: Age and Key Variables')\n",
    "    plt.tight_layout()\n",
    "    plt.show()\n",
    "else:\n",
    "    print(\"Age column not found in dataset\")"
   ]
  },
  {
   "cell_type": "markdown",
   "id": "9d62f5d7-462a-43f1-90c1-7b1c768057aa",
   "metadata": {},
   "source": [
    "<h3> Summary </h3>\n"
   ]
  },
  {
   "cell_type": "markdown",
   "id": "b42f0874-1d1a-428d-8eb7-e3657e9970f1",
   "metadata": {},
   "source": [
    "In this lab, you developed essential skills in **Exploratory Data Analysis (EDA)** with a focus on outlier detection and removal. Specifically, you:\n"
   ]
  },
  {
   "cell_type": "markdown",
   "id": "d8518b0d-1558-4748-9cf8-302c32dbac17",
   "metadata": {},
   "source": [
    "- Loaded and explored the dataset to understand its structure.\n",
    "\n",
    "- Analyzed the distribution of respondents across industries.\n",
    "\n",
    "- Identified and removed high compensation outliers using statistical thresholds and the Interquartile Range (IQR) method.\n",
    "\n",
    "- Performed correlation analysis, including transforming the `Age` column into numeric values for better analysis.\n"
   ]
  },
  {
   "cell_type": "markdown",
   "id": "fb245dab-a69e-48f3-b1a7-fac30ea419a4",
   "metadata": {},
   "source": [
    "<!--\n",
    "## Change Log\n",
    "|Date (YYYY-MM-DD)|Version|Changed By|Change Description|\n",
    "|-|-|-|-|               \n",
    "|2024-10-1|1.1|Madhusudan Moole|Reviewed and updated lab|                                                                                    \n",
    "|2024-09-29|1.0|Raghul Ramesh|Created lab|\n",
    "--!>\n"
   ]
  },
  {
   "cell_type": "markdown",
   "id": "633e1ff0-14bb-4e00-8e6f-817f6f7f3166",
   "metadata": {},
   "source": [
    "Copyright © IBM Corporation. All rights reserved.\n"
   ]
  }
 ],
 "metadata": {
  "kernelspec": {
   "display_name": "Python 3 (ipykernel)",
   "language": "python",
   "name": "python3"
  },
  "language_info": {
   "codemirror_mode": {
    "name": "ipython",
    "version": 3
   },
   "file_extension": ".py",
   "mimetype": "text/x-python",
   "name": "python",
   "nbconvert_exporter": "python",
   "pygments_lexer": "ipython3",
   "version": "3.11.9"
  },
  "prev_pub_hash": "bfb6b5324ee15056f94c357f33a9f92b9c3ff0f4ad4b517e8e51e820f5595113"
 },
 "nbformat": 4,
 "nbformat_minor": 4
}
