{
 "cells": [
  {
   "cell_type": "markdown",
   "id": "f5fdfa65-b927-4a4a-ba8b-71a46b76c623",
   "metadata": {},
   "source": [
    "<p style=\"text-align:center\">\n",
    "    <a href=\"https://skills.network\" target=\"_blank\">\n",
    "    <img src=\"https://cf-courses-data.s3.us.cloud-object-storage.appdomain.cloud/assets/logos/SN_web_lightmode.png\" width=\"200\" alt=\"Skills Network Logo\"  />\n",
    "    </a>\n",
    "</p>\n"
   ]
  },
  {
   "cell_type": "markdown",
   "id": "ded4ce36-26ed-4fb0-8616-b64a55a5d4f2",
   "metadata": {},
   "source": [
    "# **Finding Correlation**\n"
   ]
  },
  {
   "cell_type": "markdown",
   "id": "920dab8a-aa5a-4452-864d-7dfce190936c",
   "metadata": {},
   "source": [
    "Estimated time needed: **30** minutes\n"
   ]
  },
  {
   "cell_type": "markdown",
   "id": "36034e14-aa35-4eb3-adf1-a5dff187353d",
   "metadata": {},
   "source": [
    "In this lab, you will work with a cleaned dataset to perform exploratory data analysis (EDA). You will examine the distribution of the data, identify outliers, and determine the correlation between different columns in the dataset.\n"
   ]
  },
  {
   "cell_type": "markdown",
   "id": "0c0556a1-bf6b-4f9b-8ed7-3e8571b6751f",
   "metadata": {},
   "source": [
    "## Objectives\n"
   ]
  },
  {
   "cell_type": "markdown",
   "id": "36f1a220-368d-41d8-8474-93f7717e426e",
   "metadata": {},
   "source": [
    "In this lab, you will perform the following:\n"
   ]
  },
  {
   "cell_type": "markdown",
   "id": "76b7e9ad-44a9-44af-b107-73e2d53c94ec",
   "metadata": {},
   "source": [
    "- Identify the distribution of compensation data in the dataset.\n",
    "\n",
    "- Remove outliers to refine the dataset.\n",
    "\n",
    "- Identify correlations between various features in the dataset.\n"
   ]
  },
  {
   "cell_type": "markdown",
   "id": "cce0a1ec-2385-4e37-952e-80cff25dec23",
   "metadata": {},
   "source": [
    "## Hands on Lab\n"
   ]
  },
  {
   "cell_type": "markdown",
   "id": "d9d0e631-5793-4882-ad06-515153b8da62",
   "metadata": {},
   "source": [
    "##### Step 1: Install and Import Required Libraries\n"
   ]
  },
  {
   "cell_type": "code",
   "execution_count": null,
   "id": "bbd6b5e6-0058-4a03-b43c-84ff661b5346",
   "metadata": {},
   "outputs": [],
   "source": [
    "# Install the necessary libraries\n",
    "!pip install pandas\n",
    "!pip install matplotlib\n",
    "!pip install seaborn\n",
    "\n",
    "# Import libraries\n",
    "import pandas as pd\n",
    "import matplotlib.pyplot as plt\n",
    "import seaborn as sns\n"
   ]
  },
  {
   "cell_type": "markdown",
   "id": "a7401970-f0e6-4ae2-8c10-b43eaef3c366",
   "metadata": {},
   "source": [
    "### Step 2: Load the Dataset\n"
   ]
  },
  {
   "cell_type": "code",
   "execution_count": null,
   "id": "01cc5dae-2597-4e96-9545-f0a1a5f72829",
   "metadata": {},
   "outputs": [],
   "source": [
    "# Load the dataset from the given URL\n",
    "file_url = \"https://cf-courses-data.s3.us.cloud-object-storage.appdomain.cloud/n01PQ9pSmiRX6520flujwQ/survey-data.csv\"\n",
    "df = pd.read_csv(file_url)\n",
    "\n",
    "# Display the first few rows to understand the structure of the dataset\n",
    "df.head()"
   ]
  },
  {
   "cell_type": "markdown",
   "id": "b87dfcc9-a3c5-4762-b27f-1f524390e101",
   "metadata": {},
   "source": [
    "<h3>Step 3: Analyze and Visualize Compensation Distribution</h3>\n"
   ]
  },
  {
   "cell_type": "markdown",
   "id": "bbcd9b7a-c726-472c-8957-01993bf94d50",
   "metadata": {},
   "source": [
    "**Task**: Plot the distribution and histogram for `ConvertedCompYearly` to examine the spread of yearly compensation among respondents.\n"
   ]
  },
  {
   "cell_type": "code",
   "execution_count": null,
   "id": "6e008834-1274-4911-9c07-e5b2ba6cc28c",
   "metadata": {},
   "outputs": [],
   "source": [
    "## Write your code here\n",
    "\n",
    "# Step 3: Analyze and Visualize Compensation Distribution\n",
    "\n",
    "if 'ConvertedCompYearly' in df.columns:\n",
    "    fig, axes = plt.subplots(1, 2, figsize=(14, 5))\n",
    "    \n",
    "    # Histogram with distribution curve\n",
    "    axes[0].hist(df['ConvertedCompYearly'].dropna(), bins=50, edgecolor='black', alpha=0.7, density=True)\n",
    "    df['ConvertedCompYearly'].dropna().plot(kind='kde', ax=axes[0], color='red', linewidth=2)\n",
    "    axes[0].set_title('ConvertedCompYearly Distribution (Histogram + KDE)')\n",
    "    axes[0].set_xlabel('Annual Compensation ($)')\n",
    "    axes[0].set_ylabel('Density')\n",
    "    axes[0].grid(True, alpha=0.3)\n",
    "    \n",
    "    # Box plot\n",
    "    axes[1].boxplot(df['ConvertedCompYearly'].dropna())\n",
    "    axes[1].set_title('ConvertedCompYearly Distribution (Box Plot)')\n",
    "    axes[1].set_ylabel('Annual Compensation ($)')\n",
    "    axes[1].grid(True, alpha=0.3, axis='y')\n",
    "    \n",
    "    plt.tight_layout()\n",
    "    plt.show()\n",
    "    \n",
    "    print(\"ConvertedCompYearly Statistics:\")\n",
    "    print(df['ConvertedCompYearly'].describe())\n",
    "else:\n",
    "    print(\"ConvertedCompYearly column not found\")"
   ]
  },
  {
   "cell_type": "markdown",
   "id": "ab72cd6e-3724-4904-b125-d92a11cf3c5a",
   "metadata": {},
   "source": [
    "<h3>Step 4: Calculate Median Compensation for Full-Time Employees</h3>\n"
   ]
  },
  {
   "cell_type": "markdown",
   "id": "8671ddc9-ec3a-4d08-9482-aac8b8a25766",
   "metadata": {},
   "source": [
    "**Task**: Filter the data to calculate the median compensation for respondents whose employment status is \"Employed, full-time.\"\n"
   ]
  },
  {
   "cell_type": "code",
   "execution_count": null,
   "id": "27248888-db22-4fa6-9fd8-d315d2dc3a74",
   "metadata": {},
   "outputs": [],
   "source": [
    "## Write your code here\n",
    "\n",
    "# Step 4: Calculate Median Compensation for Full-Time Employees\n",
    "\n",
    "if 'ConvertedCompYearly' in df.columns and 'Employment' in df.columns:\n",
    "    # Filter for full-time employees\n",
    "    fulltime_df = df[df['Employment'] == 'Employed, full-time']\n",
    "    \n",
    "    median_fulltime_comp = fulltime_df['ConvertedCompYearly'].median()\n",
    "    \n",
    "    print(\"Full-Time Employee Compensation Analysis:\")\n",
    "    print(f\"Number of full-time employees: {len(fulltime_df)}\")\n",
    "    print(f\"Median compensation: ${median_fulltime_comp:,.2f}\")\n",
    "    print(f\"\\nFull statistics:\")\n",
    "    print(fulltime_df['ConvertedCompYearly'].describe())\n",
    "else:\n",
    "    print(\"Required columns not found\")"
   ]
  },
  {
   "cell_type": "markdown",
   "id": "5bdaed45-3b88-4674-9bb9-f83184bbbd0a",
   "metadata": {},
   "source": [
    "<h3>Step 5: Analyzing Compensation Range and Distribution by Country</h3>\n"
   ]
  },
  {
   "cell_type": "markdown",
   "id": "689c5995-6c47-4430-bc47-84d84d3a6810",
   "metadata": {},
   "source": [
    "Explore the range of compensation in the ConvertedCompYearly column by analyzing differences across countries. Use box plots to compare the compensation distributions for each country to identify variations and anomalies within each region, providing insights into global compensation trends.\n",
    "\n"
   ]
  },
  {
   "cell_type": "code",
   "execution_count": null,
   "id": "ee6221cd-c333-4762-b620-a7f4ad8f624a",
   "metadata": {},
   "outputs": [],
   "source": [
    "## Write your code here\n",
    "\n",
    "# Step 5: Analyzing Compensation Range and Distribution by Country\n",
    "\n",
    "if 'ConvertedCompYearly' in df.columns and 'Country' in df.columns:\n",
    "    # Get top 10 countries by respondent count\n",
    "    top_countries = df['Country'].value_counts().head(10).index\n",
    "    \n",
    "    # Filter for top countries\n",
    "    df_top_countries = df[df['Country'].isin(top_countries)]\n",
    "    \n",
    "    # Create box plots\n",
    "    plt.figure(figsize=(14, 6))\n",
    "    \n",
    "    # Prepare data for box plot\n",
    "    data_by_country = [df_top_countries[df_top_countries['Country'] == country]['ConvertedCompYearly'].dropna() \n",
    "                       for country in top_countries]\n",
    "    \n",
    "    plt.boxplot(data_by_country, labels=top_countries, vert=True)\n",
    "    plt.title('Compensation Distribution by Country (Top 10)')\n",
    "    plt.xlabel('Country')\n",
    "    plt.ylabel('Annual Compensation ($)')\n",
    "    plt.xticks(rotation=45, ha='right')\n",
    "    plt.grid(True, alpha=0.3, axis='y')\n",
    "    plt.tight_layout()\n",
    "    plt.show()\n",
    "    \n",
    "    print(\"Median Compensation by Country:\")\n",
    "    for country in top_countries:\n",
    "        median = df_top_countries[df_top_countries['Country'] == country]['ConvertedCompYearly'].median()\n",
    "        print(f\"{country}: ${median:,.2f}\")\n",
    "else:\n",
    "    print(\"Required columns not found\")"
   ]
  },
  {
   "cell_type": "markdown",
   "id": "e6b356e1-d3fb-4e34-912a-17cbb6e6fc8e",
   "metadata": {},
   "source": [
    "<h3>Step 6: Removing Outliers from the Dataset</h3>\n"
   ]
  },
  {
   "cell_type": "markdown",
   "id": "6df844a2-a1a3-44f7-80a6-920e5023876d",
   "metadata": {},
   "source": [
    "**Task**: Create a new DataFrame by removing outliers from the `ConvertedCompYearly` column to get a refined dataset for correlation analysis.\n"
   ]
  },
  {
   "cell_type": "code",
   "execution_count": null,
   "id": "af646772-bfc9-49b5-9985-1877a8aa5a11",
   "metadata": {},
   "outputs": [],
   "source": [
    "## Write your code here\n",
    "\n",
    "# Step 6: Removing Outliers from the Dataset\n",
    "\n",
    "if 'ConvertedCompYearly' in df.columns:\n",
    "    # Calculate IQR\n",
    "    Q1 = df['ConvertedCompYearly'].quantile(0.25)\n",
    "    Q3 = df['ConvertedCompYearly'].quantile(0.75)\n",
    "    IQR = Q3 - Q1\n",
    "    \n",
    "    # Calculate bounds\n",
    "    lower_bound = Q1 - 1.5 * IQR\n",
    "    upper_bound = Q3 + 1.5 * IQR\n",
    "    \n",
    "    # Remove outliers\n",
    "    df_cleaned = df[(df['ConvertedCompYearly'] >= lower_bound) & \n",
    "                    (df['ConvertedCompYearly'] <= upper_bound)]\n",
    "    \n",
    "    print(\"Outlier Removal using IQR Method:\")\n",
    "    print(f\"Q1: ${Q1:,.2f}\")\n",
    "    print(f\"Q3: ${Q3:,.2f}\")\n",
    "    print(f\"IQR: ${IQR:,.2f}\")\n",
    "    print(f\"Lower Bound: ${lower_bound:,.2f}\")\n",
    "    print(f\"Upper Bound: ${upper_bound:,.2f}\")\n",
    "    print(f\"\\nOriginal dataset size: {len(df)}\")\n",
    "    print(f\"Cleaned dataset size: {len(df_cleaned)}\")\n",
    "    print(f\"Outliers removed: {len(df) - len(df_cleaned)}\")\n",
    "else:\n",
    "    df_cleaned = df.copy()\n",
    "    print(\"ConvertedCompYearly column not found\")"
   ]
  },
  {
   "cell_type": "markdown",
   "id": "98286358-e5f5-4448-a6e9-5bd581eee265",
   "metadata": {},
   "source": [
    "<h3>Step 7: Finding Correlations Between Key Variables</h3>\n"
   ]
  },
  {
   "cell_type": "markdown",
   "id": "50801838-9def-45e9-8a34-1e86e5e95e60",
   "metadata": {},
   "source": [
    "**Task**: Calculate correlations between `ConvertedCompYearly`, `WorkExp`, and `JobSatPoints_1`. Visualize these correlations with a heatmap.\n"
   ]
  },
  {
   "cell_type": "code",
   "execution_count": null,
   "id": "688e7be4-af14-4269-bb06-a81f1b2272ea",
   "metadata": {},
   "outputs": [],
   "source": [
    "## Write your code here\n",
    "\n",
    "# Step 7: Finding Correlations Between Key Variables\n",
    "\n",
    "# Select key numerical columns\n",
    "correlation_columns = []\n",
    "if 'ConvertedCompYearly' in df_cleaned.columns:\n",
    "    correlation_columns.append('ConvertedCompYearly')\n",
    "if 'WorkExp' in df_cleaned.columns:\n",
    "    correlation_columns.append('WorkExp')\n",
    "if 'JobSatPoints_1' in df_cleaned.columns:\n",
    "    correlation_columns.append('JobSatPoints_1')\n",
    "if 'YearsCodePro' in df_cleaned.columns:\n",
    "    correlation_columns.append('YearsCodePro')\n",
    "\n",
    "if len(correlation_columns) >= 2:\n",
    "    # Calculate correlation matrix\n",
    "    corr_matrix = df_cleaned[correlation_columns].corr()\n",
    "    \n",
    "    print(\"Correlation Matrix:\")\n",
    "    print(corr_matrix)\n",
    "    \n",
    "    # Visualize with heatmap\n",
    "    plt.figure(figsize=(10, 8))\n",
    "    sns.heatmap(corr_matrix, annot=True, cmap='coolwarm', center=0, \n",
    "                square=True, linewidths=2, fmt='.3f', \n",
    "                cbar_kws={\"shrink\": 0.8})\n",
    "    plt.title('Correlation Heatmap: Key Variables')\n",
    "    plt.tight_layout()\n",
    "    plt.show()\n",
    "    \n",
    "    print(\"\\nKey Correlations:\")\n",
    "    if 'ConvertedCompYearly' in correlation_columns and 'WorkExp' in correlation_columns:\n",
    "        corr_comp_exp = corr_matrix.loc['ConvertedCompYearly', 'WorkExp']\n",
    "        print(f\"Compensation vs WorkExp: {corr_comp_exp:.3f}\")\n",
    "    if 'ConvertedCompYearly' in correlation_columns and 'JobSatPoints_1' in correlation_columns:\n",
    "        corr_comp_sat = corr_matrix.loc['ConvertedCompYearly', 'JobSatPoints_1']\n",
    "        print(f\"Compensation vs JobSatisfaction: {corr_comp_sat:.3f}\")\n",
    "else:\n",
    "    print(\"Not enough numerical columns for correlation analysis\")"
   ]
  },
  {
   "cell_type": "markdown",
   "id": "8b294aeb-68ec-4fc5-b59e-6744cac8c791",
   "metadata": {},
   "source": [
    "<h3>Step 8: Scatter Plot for Correlations</h3>\n"
   ]
  },
  {
   "cell_type": "markdown",
   "id": "7ce73706-8ccb-49f2-b1f2-f6d801f7f2d2",
   "metadata": {},
   "source": [
    "**Task**: Create scatter plots to examine specific correlations between `ConvertedCompYearly` and `WorkExp`, as well as between `ConvertedCompYearly` and `JobSatPoints_1`.\n"
   ]
  },
  {
   "cell_type": "code",
   "execution_count": null,
   "id": "6da56e1d-42d8-4203-8be7-a537bd88568e",
   "metadata": {},
   "outputs": [],
   "source": [
    "## Write your code here\n",
    "\n",
    "# Step 8: Scatter Plot for Correlations\n",
    "\n",
    "fig, axes = plt.subplots(1, 2, figsize=(14, 5))\n",
    "\n",
    "# Scatter plot 1: ConvertedCompYearly vs WorkExp\n",
    "if 'ConvertedCompYearly' in df_cleaned.columns and 'WorkExp' in df_cleaned.columns:\n",
    "    df_scatter1 = df_cleaned[['ConvertedCompYearly', 'WorkExp']].dropna()\n",
    "    axes[0].scatter(df_scatter1['WorkExp'], df_scatter1['ConvertedCompYearly'], \n",
    "                    alpha=0.5, s=20, c='blue')\n",
    "    axes[0].set_xlabel('Work Experience (years)')\n",
    "    axes[0].set_ylabel('Annual Compensation ($)')\n",
    "    axes[0].set_title('Compensation vs Work Experience')\n",
    "    axes[0].grid(True, alpha=0.3)\n",
    "else:\n",
    "    axes[0].text(0.5, 0.5, 'Data not available', ha='center', va='center')\n",
    "    axes[0].set_title('Compensation vs Work Experience')\n",
    "\n",
    "# Scatter plot 2: ConvertedCompYearly vs JobSatPoints_1\n",
    "if 'ConvertedCompYearly' in df_cleaned.columns and 'JobSatPoints_1' in df_cleaned.columns:\n",
    "    df_scatter2 = df_cleaned[['ConvertedCompYearly', 'JobSatPoints_1']].dropna()\n",
    "    axes[1].scatter(df_scatter2['JobSatPoints_1'], df_scatter2['ConvertedCompYearly'], \n",
    "                    alpha=0.5, s=20, c='green')\n",
    "    axes[1].set_xlabel('Job Satisfaction Points')\n",
    "    axes[1].set_ylabel('Annual Compensation ($)')\n",
    "    axes[1].set_title('Compensation vs Job Satisfaction')\n",
    "    axes[1].grid(True, alpha=0.3)\n",
    "else:\n",
    "    axes[1].text(0.5, 0.5, 'Data not available', ha='center', va='center')\n",
    "    axes[1].set_title('Compensation vs Job Satisfaction')\n",
    "\n",
    "plt.tight_layout()\n",
    "plt.show()\n",
    "\n",
    "print(\"Scatter plots created to visualize relationships between variables\")"
   ]
  },
  {
   "cell_type": "markdown",
   "id": "a0c7e1fc-f398-4679-9b4a-0781ea246fde",
   "metadata": {},
   "source": [
    "<h3>Summary</h3>\n"
   ]
  },
  {
   "cell_type": "markdown",
   "id": "8376a7c6-1470-4b54-8a90-6e80b765b894",
   "metadata": {},
   "source": [
    "In this lab, you practiced essential skills in correlation analysis by:\n",
    "\n",
    "- Examining the distribution of yearly compensation with histograms and box plots.\n",
    "- Detecting and removing outliers from compensation data.\n",
    "- Calculating correlations between key variables such as compensation, work experience, and job satisfaction.\n",
    "- Visualizing relationships with scatter plots and heatmaps to gain insights into the associations between these features.\n",
    "\n",
    "By following these steps, you have developed a solid foundation for analyzing relationships within the dataset.\n"
   ]
  },
  {
   "cell_type": "markdown",
   "id": "eb7a4d9f-bffb-40ff-a0a1-97e7b407c768",
   "metadata": {},
   "source": [
    "## Authors:\n",
    "Ayushi Jain\n"
   ]
  },
  {
   "cell_type": "markdown",
   "id": "f3b69109-545c-465e-a3ed-3d3dcc7c1a56",
   "metadata": {},
   "source": [
    "### Other Contributors:\n",
    "- Rav Ahuja\n",
    "- Lakshmi Holla\n",
    "- Malika\n"
   ]
  },
  {
   "cell_type": "markdown",
   "id": "11175ec4-287d-4493-bd58-282e96edb380",
   "metadata": {},
   "source": [
    "Copyright © IBM Corporation. All rights reserved.\n"
   ]
  }
 ],
 "metadata": {
  "kernelspec": {
   "display_name": "Python 3 (ipykernel)",
   "language": "python",
   "name": "python3"
  },
  "language_info": {
   "codemirror_mode": {
    "name": "ipython",
    "version": 3
   },
   "file_extension": ".py",
   "mimetype": "text/x-python",
   "name": "python",
   "nbconvert_exporter": "python",
   "pygments_lexer": "ipython3",
   "version": "3.11.9"
  },
  "prev_pub_hash": "cd002f216a8f007d424ab00c7f1ce2f3922b5f7953054f2920a8ed91b89e1556"
 },
 "nbformat": 4,
 "nbformat_minor": 4
}
